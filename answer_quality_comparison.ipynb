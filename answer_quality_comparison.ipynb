{
 "cells": [
  {
   "cell_type": "code",
   "execution_count": 1,
   "metadata": {},
   "outputs": [],
   "source": [
    "import pandas as pd\n",
    "import os"
   ]
  },
  {
   "cell_type": "code",
   "execution_count": 3,
   "metadata": {},
   "outputs": [],
   "source": [
    "EXP_NAME_CONTEXT = '/net/pr2/projects/plgrid/plggllmhallu/hallu/llama2_sum_decoding/evaluated_df.parquet'"
   ]
  },
  {
   "cell_type": "code",
   "execution_count": 4,
   "metadata": {},
   "outputs": [],
   "source": [
    "df = pd.read_parquet(EXP_NAME_CONTEXT)"
   ]
  },
  {
   "cell_type": "code",
   "execution_count": 8,
   "metadata": {},
   "outputs": [],
   "source": [
    "df1 = pd.read_parquet('/net/pr2/projects/plgrid/plggllmhallu/hallu/llama2_att/evaluated_df.parquet')"
   ]
  },
  {
   "cell_type": "code",
   "execution_count": 18,
   "metadata": {},
   "outputs": [],
   "source": [
    "df_ours = df.loc[~df['dataset'].isin(['nq'])].groupby('dataset')['decision'].value_counts(normalize=True).to_frame().reset_index().rename(columns={'proportion': 'proportion_ours'}).round(3)\n",
    "df_greedy = df1.loc[~df1['dataset'].isin(['hotpotqa_pl', 'nq', 'polqa', 'poquad_v2'])].groupby('dataset')['decision'].value_counts(normalize=True).to_frame().reset_index().round(3)"
   ]
  },
  {
   "cell_type": "code",
   "execution_count": 21,
   "metadata": {},
   "outputs": [],
   "source": [
    "df_res = df_ours.merge(df_greedy, on=['dataset', 'decision'], how='outer')"
   ]
  },
  {
   "cell_type": "code",
   "execution_count": 22,
   "metadata": {},
   "outputs": [],
   "source": [
    "df_res['diff'] = df_res['proportion_ours'] - df_res['proportion']\n",
    "df_res['perc_diff'] = (df_res['proportion_ours'] - df_res['proportion']) / df_res['proportion'] * 100"
   ]
  },
  {
   "cell_type": "code",
   "execution_count": 24,
   "metadata": {},
   "outputs": [
    {
     "data": {
      "text/html": [
       "<div>\n",
       "<style scoped>\n",
       "    .dataframe tbody tr th:only-of-type {\n",
       "        vertical-align: middle;\n",
       "    }\n",
       "\n",
       "    .dataframe tbody tr th {\n",
       "        vertical-align: top;\n",
       "    }\n",
       "\n",
       "    .dataframe thead th {\n",
       "        text-align: right;\n",
       "    }\n",
       "</style>\n",
       "<table border=\"1\" class=\"dataframe\">\n",
       "  <thead>\n",
       "    <tr style=\"text-align: right;\">\n",
       "      <th></th>\n",
       "      <th>dataset</th>\n",
       "      <th>decision</th>\n",
       "      <th>proportion_ours</th>\n",
       "      <th>proportion</th>\n",
       "      <th>diff</th>\n",
       "      <th>perc_diff</th>\n",
       "    </tr>\n",
       "  </thead>\n",
       "  <tbody>\n",
       "    <tr>\n",
       "      <th>0</th>\n",
       "      <td>cnndm</td>\n",
       "      <td>True</td>\n",
       "      <td>0.778</td>\n",
       "      <td>0.745</td>\n",
       "      <td>0.033</td>\n",
       "      <td>4.429530</td>\n",
       "    </tr>\n",
       "    <tr>\n",
       "      <th>2</th>\n",
       "      <td>hotpotqa_en</td>\n",
       "      <td>True</td>\n",
       "      <td>0.625</td>\n",
       "      <td>0.620</td>\n",
       "      <td>0.005</td>\n",
       "      <td>0.806452</td>\n",
       "    </tr>\n",
       "    <tr>\n",
       "      <th>4</th>\n",
       "      <td>xsum</td>\n",
       "      <td>True</td>\n",
       "      <td>0.659</td>\n",
       "      <td>0.632</td>\n",
       "      <td>0.027</td>\n",
       "      <td>4.272152</td>\n",
       "    </tr>\n",
       "  </tbody>\n",
       "</table>\n",
       "</div>"
      ],
      "text/plain": [
       "       dataset  decision  proportion_ours  proportion   diff  perc_diff\n",
       "0        cnndm      True            0.778       0.745  0.033   4.429530\n",
       "2  hotpotqa_en      True            0.625       0.620  0.005   0.806452\n",
       "4         xsum      True            0.659       0.632  0.027   4.272152"
      ]
     },
     "execution_count": 24,
     "metadata": {},
     "output_type": "execute_result"
    }
   ],
   "source": [
    "df_res.loc[df_res['decision'] == True]"
   ]
  },
  {
   "cell_type": "code",
   "execution_count": 20,
   "metadata": {},
   "outputs": [],
   "source": [
    "df = df.rename(columns={'query': 'question'})"
   ]
  },
  {
   "cell_type": "code",
   "execution_count": 21,
   "metadata": {},
   "outputs": [],
   "source": [
    "df.to_parquet(EXP_NAME_CONTEXT)"
   ]
  },
  {
   "cell_type": "code",
   "execution_count": 4,
   "metadata": {},
   "outputs": [
    {
     "data": {
      "text/plain": [
       "dataset\n",
       "nq             1819\n",
       "poquad_v2      1500\n",
       "hotpotqa_en    1050\n",
       "xsum           1000\n",
       "cnndm          1000\n",
       "polqa           699\n",
       "hotpotqa_pl     644\n",
       "bioask          334\n",
       "Name: count, dtype: int64"
      ]
     },
     "execution_count": 4,
     "metadata": {},
     "output_type": "execute_result"
    }
   ],
   "source": [
    "df['dataset'].value_counts()"
   ]
  },
  {
   "cell_type": "code",
   "execution_count": 8,
   "metadata": {},
   "outputs": [
    {
     "data": {
      "text/plain": [
       "0"
      ]
     },
     "execution_count": 8,
     "metadata": {},
     "output_type": "execute_result"
    }
   ],
   "source": [
    "df['id'].duplicated().sum()"
   ]
  },
  {
   "cell_type": "code",
   "execution_count": 30,
   "metadata": {},
   "outputs": [],
   "source": [
    "df['question'] = df['question'].combine_first(df['query'])\n",
    "\n",
    "# Drop the 'query' column\n",
    "df = df.drop(columns=['query'])\n",
    "\n",
    "df.dropna(inplace=True)"
   ]
  },
  {
   "cell_type": "code",
   "execution_count": 32,
   "metadata": {},
   "outputs": [],
   "source": [
    "df.to_parquet(EXP_NAME_CONTEXT)"
   ]
  },
  {
   "cell_type": "code",
   "execution_count": 14,
   "metadata": {},
   "outputs": [],
   "source": [
    "EXP_NAME_CONTEXT = '/net/pr2/projects/plgrid/plggllmhallu/hallu/bielik_att/checkpoints'"
   ]
  },
  {
   "cell_type": "code",
   "execution_count": 10,
   "metadata": {},
   "outputs": [],
   "source": [
    "df = pd.read_json('/net/pr2/projects/plgrid/plggllmhallu/hallu/bielik_att/checkpoints/bielik_att_6000_8000_evaluated_2024-12-23_17-20-59.json', lines=True)"
   ]
  },
  {
   "cell_type": "code",
   "execution_count": 22,
   "metadata": {},
   "outputs": [
    {
     "name": "stdout",
     "output_type": "stream",
     "text": [
      "bielik_att_0_2000_checkpoint.json\n",
      "bielik_att_6000_8000_evaluated_2024-12-23_17-20-59.json\n",
      "Processing bielik_att_6000_8000_evaluated_2024-12-23_17-20-59.json\n",
      "bielik_att_6000_8000_checkpoint.json\n",
      "bielik_att_2000_4000_checkpoint.json\n",
      "bielik_att_0_None_evaluated_2024-12-23_18-31-51.json\n",
      "Processing bielik_att_0_None_evaluated_2024-12-23_18-31-51.json\n",
      "bielik_att_4000_6000_evaluated_2024-12-23_20-20-22.json\n",
      "Processing bielik_att_4000_6000_evaluated_2024-12-23_20-20-22.json\n",
      "bielik_att_0_1000_checkpoint.json\n",
      "bielik_att_2000_4000_evaluated_2024-12-23_19-50-27.json\n",
      "Processing bielik_att_2000_4000_evaluated_2024-12-23_19-50-27.json\n",
      "bielik_att_0_None_evaluated_2024-12-23_19-00-08.json\n",
      "Processing bielik_att_0_None_evaluated_2024-12-23_19-00-08.json\n",
      "bielik_att_4000_6000_checkpoint.json\n"
     ]
    }
   ],
   "source": [
    "context_df = None\n",
    "\n",
    "import json\n",
    "\n",
    "for f_ in os.listdir(os.path.join(EXP_NAME_CONTEXT)):\n",
    "\n",
    "    print(f_)\n",
    "        \n",
    "    # if f_.startswith('attension'):\n",
    "    if 'evaluated' in f_:\n",
    "\n",
    "        print(f'Processing {f_}')\n",
    "\n",
    "        # if context_df is None:\n",
    "        #     context_df = pd.read_parquet(os.path.join(EXP_NAME_CONTEXT, f_))\n",
    "        # else:\n",
    "        #     context_df = pd.concat((context_df, pd.read_parquet(os.path.join(EXP_NAME_CONTEXT, f_))))\n",
    "\n",
    "        if context_df is None:\n",
    "            context_df = pd.read_json(os.path.join(EXP_NAME_CONTEXT, f_), lines=True)\n",
    "\n",
    "        else:\n",
    "            context_df = pd.concat((context_df, pd.read_json(os.path.join(EXP_NAME_CONTEXT, f_), lines=True)))\n",
    "\n",
    "# context_df = context_df.dropna()"
   ]
  },
  {
   "cell_type": "code",
   "execution_count": 23,
   "metadata": {},
   "outputs": [
    {
     "data": {
      "text/html": [
       "<div>\n",
       "<style scoped>\n",
       "    .dataframe tbody tr th:only-of-type {\n",
       "        vertical-align: middle;\n",
       "    }\n",
       "\n",
       "    .dataframe tbody tr th {\n",
       "        vertical-align: top;\n",
       "    }\n",
       "\n",
       "    .dataframe thead th {\n",
       "        text-align: right;\n",
       "    }\n",
       "</style>\n",
       "<table border=\"1\" class=\"dataframe\">\n",
       "  <thead>\n",
       "    <tr style=\"text-align: right;\">\n",
       "      <th></th>\n",
       "    </tr>\n",
       "  </thead>\n",
       "  <tbody>\n",
       "  </tbody>\n",
       "</table>\n",
       "</div>"
      ],
      "text/plain": [
       "Empty DataFrame\n",
       "Columns: []\n",
       "Index: []"
      ]
     },
     "execution_count": 23,
     "metadata": {},
     "output_type": "execute_result"
    }
   ],
   "source": [
    "context_df"
   ]
  },
  {
   "cell_type": "markdown",
   "metadata": {},
   "source": []
  },
  {
   "cell_type": "code",
   "execution_count": 2,
   "metadata": {},
   "outputs": [],
   "source": [
    "df = pd.read_parquet('/net/pr2/projects/plgrid/plggllmhallu/hallu/data/new_version_merged_df.parquet')"
   ]
  },
  {
   "cell_type": "code",
   "execution_count": 6,
   "metadata": {},
   "outputs": [
    {
     "data": {
      "text/plain": [
       "dataset\n",
       "nq             1819\n",
       "poquad_v2      1500\n",
       "hotpotqa_en    1050\n",
       "polqa           710\n",
       "hotpotqa_pl     645\n",
       "bioask          500\n",
       "Name: count, dtype: int64"
      ]
     },
     "execution_count": 6,
     "metadata": {},
     "output_type": "execute_result"
    }
   ],
   "source": [
    "df['dataset'].value_counts()"
   ]
  },
  {
   "cell_type": "code",
   "execution_count": 11,
   "metadata": {},
   "outputs": [],
   "source": [
    "df = df.loc[df['dataset'] != 'bioask']"
   ]
  },
  {
   "cell_type": "code",
   "execution_count": 13,
   "metadata": {},
   "outputs": [],
   "source": [
    "df.to_parquet('/net/pr2/projects/plgrid/plggllmhallu/hallu/llama2_resps/llama2_pure/evaluated_df_no_bioask.parquet')"
   ]
  },
  {
   "cell_type": "code",
   "execution_count": 4,
   "metadata": {},
   "outputs": [
    {
     "data": {
      "text/plain": [
       "decision\n",
       "True     1382\n",
       "False     618\n",
       "Name: count, dtype: int64"
      ]
     },
     "execution_count": 4,
     "metadata": {},
     "output_type": "execute_result"
    }
   ],
   "source": [
    "df.loc[df['query'].isna()]['decision'].value_counts()"
   ]
  },
  {
   "cell_type": "code",
   "execution_count": 5,
   "metadata": {},
   "outputs": [
    {
     "data": {
      "text/plain": [
       "id                    object\n",
       "dataset               object\n",
       "query                 object\n",
       "answer                object\n",
       "context               object\n",
       "context_length       float64\n",
       "model_response        object\n",
       "decision                bool\n",
       "problematic_spans     object\n",
       "question              object\n",
       "dtype: object"
      ]
     },
     "execution_count": 5,
     "metadata": {},
     "output_type": "execute_result"
    }
   ],
   "source": [
    "df.dtypes"
   ]
  },
  {
   "cell_type": "code",
   "execution_count": 13,
   "metadata": {},
   "outputs": [
    {
     "data": {
      "text/html": [
       "<div>\n",
       "<style scoped>\n",
       "    .dataframe tbody tr th:only-of-type {\n",
       "        vertical-align: middle;\n",
       "    }\n",
       "\n",
       "    .dataframe tbody tr th {\n",
       "        vertical-align: top;\n",
       "    }\n",
       "\n",
       "    .dataframe thead th {\n",
       "        text-align: right;\n",
       "    }\n",
       "</style>\n",
       "<table border=\"1\" class=\"dataframe\">\n",
       "  <thead>\n",
       "    <tr style=\"text-align: right;\">\n",
       "      <th></th>\n",
       "      <th>id</th>\n",
       "      <th>dataset</th>\n",
       "      <th>question</th>\n",
       "      <th>context</th>\n",
       "      <th>answer</th>\n",
       "      <th>context_length</th>\n",
       "      <th>model_response</th>\n",
       "      <th>decision</th>\n",
       "      <th>problematic_spans</th>\n",
       "      <th>query</th>\n",
       "    </tr>\n",
       "  </thead>\n",
       "  <tbody>\n",
       "    <tr>\n",
       "      <th>0</th>\n",
       "      <td>cnndm_0</td>\n",
       "      <td>cnndm</td>\n",
       "      <td>Generate a summary comprising of 1 sentence fo...</td>\n",
       "      <td>Marseille, France (CNN)The French prosecutor l...</td>\n",
       "      <td>Marseille prosecutor says \"so far no videos we...</td>\n",
       "      <td>1572.0</td>\n",
       "      <td>The co-pilot of Germanwings Flight 9525, Andre...</td>\n",
       "      <td>True</td>\n",
       "      <td>[]</td>\n",
       "      <td>None</td>\n",
       "    </tr>\n",
       "    <tr>\n",
       "      <th>1</th>\n",
       "      <td>cnndm_1</td>\n",
       "      <td>cnndm</td>\n",
       "      <td>Generate a summary comprising of 1 sentence fo...</td>\n",
       "      <td>He's a blue chip college basketball recruit. S...</td>\n",
       "      <td>College-bound basketball star asks girl with D...</td>\n",
       "      <td>719.0</td>\n",
       "      <td>Trey Moses, a blue chip college basketball rec...</td>\n",
       "      <td>True</td>\n",
       "      <td>[]</td>\n",
       "      <td>None</td>\n",
       "    </tr>\n",
       "    <tr>\n",
       "      <th>2</th>\n",
       "      <td>cnndm_2</td>\n",
       "      <td>cnndm</td>\n",
       "      <td>Generate a summary comprising of 1 sentence fo...</td>\n",
       "      <td>The United States and its negotiating partners...</td>\n",
       "      <td>Richard Klass: Iran framework agreement on nuk...</td>\n",
       "      <td>1105.0</td>\n",
       "      <td>The article provides a detailed analysis of th...</td>\n",
       "      <td>True</td>\n",
       "      <td>[]</td>\n",
       "      <td>None</td>\n",
       "    </tr>\n",
       "    <tr>\n",
       "      <th>3</th>\n",
       "      <td>cnndm_3</td>\n",
       "      <td>cnndm</td>\n",
       "      <td>Generate a summary comprising of 1 sentence fo...</td>\n",
       "      <td>Police in the Indian city of Malegaon, in the ...</td>\n",
       "      <td>Authorities in the Indian city of Malegaon hav...</td>\n",
       "      <td>599.0</td>\n",
       "      <td>The police in Malegaon, India have begun requi...</td>\n",
       "      <td>True</td>\n",
       "      <td>[]</td>\n",
       "      <td>None</td>\n",
       "    </tr>\n",
       "    <tr>\n",
       "      <th>4</th>\n",
       "      <td>cnndm_4</td>\n",
       "      <td>cnndm</td>\n",
       "      <td>Generate a summary comprising of 1 sentence fo...</td>\n",
       "      <td>The terrorist group Al-Shabaab has claimed an ...</td>\n",
       "      <td>Terrorist group Al-Shabaab has attacked a Keny...</td>\n",
       "      <td>1115.0</td>\n",
       "      <td>Al-Shabaab's attack on Garissa University Coll...</td>\n",
       "      <td>True</td>\n",
       "      <td>[]</td>\n",
       "      <td>None</td>\n",
       "    </tr>\n",
       "    <tr>\n",
       "      <th>...</th>\n",
       "      <td>...</td>\n",
       "      <td>...</td>\n",
       "      <td>...</td>\n",
       "      <td>...</td>\n",
       "      <td>...</td>\n",
       "      <td>...</td>\n",
       "      <td>...</td>\n",
       "      <td>...</td>\n",
       "      <td>...</td>\n",
       "      <td>...</td>\n",
       "    </tr>\n",
       "    <tr>\n",
       "      <th>8241</th>\n",
       "      <td>xsum_38208884</td>\n",
       "      <td>xsum</td>\n",
       "      <td>Generate a summary comprising of 1 sentence fo...</td>\n",
       "      <td>`Dokument [1]:` The accusations were made by R...</td>\n",
       "      <td>Charlton Athletic have begun an investigation ...</td>\n",
       "      <td>493.0</td>\n",
       "      <td>`ANSWER`: The article reports on allegations ...</td>\n",
       "      <td>True</td>\n",
       "      <td>[]</td>\n",
       "      <td>None</td>\n",
       "    </tr>\n",
       "    <tr>\n",
       "      <th>8242</th>\n",
       "      <td>xsum_39380075</td>\n",
       "      <td>xsum</td>\n",
       "      <td>Generate a summary comprising of 1 sentence fo...</td>\n",
       "      <td>`Dokument [1]:` The boards are forecast to ove...</td>\n",
       "      <td>Four health boards which are due to see their ...</td>\n",
       "      <td>1000.0</td>\n",
       "      <td>The four health boards in Wales are forecast ...</td>\n",
       "      <td>True</td>\n",
       "      <td>[]</td>\n",
       "      <td>None</td>\n",
       "    </tr>\n",
       "    <tr>\n",
       "      <th>8243</th>\n",
       "      <td>xsum_39192785</td>\n",
       "      <td>xsum</td>\n",
       "      <td>Generate a summary comprising of 1 sentence fo...</td>\n",
       "      <td>`Dokument [1]:` Nintendo said such pixels were...</td>\n",
       "      <td>Thousands of owners of Nintendo's new console,...</td>\n",
       "      <td>636.0</td>\n",
       "      <td>Sure, I can help you with that! Based on the ...</td>\n",
       "      <td>False</td>\n",
       "      <td>[the article does not provide any definitive a...</td>\n",
       "      <td>None</td>\n",
       "    </tr>\n",
       "    <tr>\n",
       "      <th>8244</th>\n",
       "      <td>xsum_39207593</td>\n",
       "      <td>xsum</td>\n",
       "      <td>Generate a summary comprising of 1 sentence fo...</td>\n",
       "      <td>`Dokument [1]:` Philip Hammond says the extra ...</td>\n",
       "      <td>The chancellor has announced a £2bn rescue pac...</td>\n",
       "      <td>1007.0</td>\n",
       "      <td>The article discusses the additional £1 billi...</td>\n",
       "      <td>True</td>\n",
       "      <td>[]</td>\n",
       "      <td>None</td>\n",
       "    </tr>\n",
       "    <tr>\n",
       "      <th>8245</th>\n",
       "      <td>xsum_35860140</td>\n",
       "      <td>xsum</td>\n",
       "      <td>Generate a summary comprising of 1 sentence fo...</td>\n",
       "      <td>`Dokument [1]:` The 56-year-old man, from Esse...</td>\n",
       "      <td>A pilot has died after his microlight hit an e...</td>\n",
       "      <td>296.0</td>\n",
       "      <td>`ANSWER`: A 56-year-old man from Essex was pr...</td>\n",
       "      <td>True</td>\n",
       "      <td>[]</td>\n",
       "      <td>None</td>\n",
       "    </tr>\n",
       "  </tbody>\n",
       "</table>\n",
       "<p>2182 rows × 10 columns</p>\n",
       "</div>"
      ],
      "text/plain": [
       "                 id dataset  \\\n",
       "0           cnndm_0   cnndm   \n",
       "1           cnndm_1   cnndm   \n",
       "2           cnndm_2   cnndm   \n",
       "3           cnndm_3   cnndm   \n",
       "4           cnndm_4   cnndm   \n",
       "...             ...     ...   \n",
       "8241  xsum_38208884    xsum   \n",
       "8242  xsum_39380075    xsum   \n",
       "8243  xsum_39192785    xsum   \n",
       "8244  xsum_39207593    xsum   \n",
       "8245  xsum_35860140    xsum   \n",
       "\n",
       "                                               question  \\\n",
       "0     Generate a summary comprising of 1 sentence fo...   \n",
       "1     Generate a summary comprising of 1 sentence fo...   \n",
       "2     Generate a summary comprising of 1 sentence fo...   \n",
       "3     Generate a summary comprising of 1 sentence fo...   \n",
       "4     Generate a summary comprising of 1 sentence fo...   \n",
       "...                                                 ...   \n",
       "8241  Generate a summary comprising of 1 sentence fo...   \n",
       "8242  Generate a summary comprising of 1 sentence fo...   \n",
       "8243  Generate a summary comprising of 1 sentence fo...   \n",
       "8244  Generate a summary comprising of 1 sentence fo...   \n",
       "8245  Generate a summary comprising of 1 sentence fo...   \n",
       "\n",
       "                                                context  \\\n",
       "0     Marseille, France (CNN)The French prosecutor l...   \n",
       "1     He's a blue chip college basketball recruit. S...   \n",
       "2     The United States and its negotiating partners...   \n",
       "3     Police in the Indian city of Malegaon, in the ...   \n",
       "4     The terrorist group Al-Shabaab has claimed an ...   \n",
       "...                                                 ...   \n",
       "8241  `Dokument [1]:` The accusations were made by R...   \n",
       "8242  `Dokument [1]:` The boards are forecast to ove...   \n",
       "8243  `Dokument [1]:` Nintendo said such pixels were...   \n",
       "8244  `Dokument [1]:` Philip Hammond says the extra ...   \n",
       "8245  `Dokument [1]:` The 56-year-old man, from Esse...   \n",
       "\n",
       "                                                 answer  context_length  \\\n",
       "0     Marseille prosecutor says \"so far no videos we...          1572.0   \n",
       "1     College-bound basketball star asks girl with D...           719.0   \n",
       "2     Richard Klass: Iran framework agreement on nuk...          1105.0   \n",
       "3     Authorities in the Indian city of Malegaon hav...           599.0   \n",
       "4     Terrorist group Al-Shabaab has attacked a Keny...          1115.0   \n",
       "...                                                 ...             ...   \n",
       "8241  Charlton Athletic have begun an investigation ...           493.0   \n",
       "8242  Four health boards which are due to see their ...          1000.0   \n",
       "8243  Thousands of owners of Nintendo's new console,...           636.0   \n",
       "8244  The chancellor has announced a £2bn rescue pac...          1007.0   \n",
       "8245  A pilot has died after his microlight hit an e...           296.0   \n",
       "\n",
       "                                         model_response decision  \\\n",
       "0     The co-pilot of Germanwings Flight 9525, Andre...     True   \n",
       "1     Trey Moses, a blue chip college basketball rec...     True   \n",
       "2     The article provides a detailed analysis of th...     True   \n",
       "3     The police in Malegaon, India have begun requi...     True   \n",
       "4     Al-Shabaab's attack on Garissa University Coll...     True   \n",
       "...                                                 ...      ...   \n",
       "8241   `ANSWER`: The article reports on allegations ...     True   \n",
       "8242   The four health boards in Wales are forecast ...     True   \n",
       "8243   Sure, I can help you with that! Based on the ...    False   \n",
       "8244   The article discusses the additional £1 billi...     True   \n",
       "8245   `ANSWER`: A 56-year-old man from Essex was pr...     True   \n",
       "\n",
       "                                      problematic_spans query  \n",
       "0                                                    []  None  \n",
       "1                                                    []  None  \n",
       "2                                                    []  None  \n",
       "3                                                    []  None  \n",
       "4                                                    []  None  \n",
       "...                                                 ...   ...  \n",
       "8241                                                 []  None  \n",
       "8242                                                 []  None  \n",
       "8243  [the article does not provide any definitive a...  None  \n",
       "8244                                                 []  None  \n",
       "8245                                                 []  None  \n",
       "\n",
       "[2182 rows x 10 columns]"
      ]
     },
     "execution_count": 13,
     "metadata": {},
     "output_type": "execute_result"
    }
   ],
   "source": [
    "df.loc[df['query'].isna()]"
   ]
  },
  {
   "cell_type": "code",
   "execution_count": 6,
   "metadata": {},
   "outputs": [],
   "source": []
  },
  {
   "cell_type": "code",
   "execution_count": 7,
   "metadata": {},
   "outputs": [],
   "source": []
  },
  {
   "cell_type": "code",
   "execution_count": 8,
   "metadata": {},
   "outputs": [
    {
     "data": {
      "text/html": [
       "<div>\n",
       "<style scoped>\n",
       "    .dataframe tbody tr th:only-of-type {\n",
       "        vertical-align: middle;\n",
       "    }\n",
       "\n",
       "    .dataframe tbody tr th {\n",
       "        vertical-align: top;\n",
       "    }\n",
       "\n",
       "    .dataframe thead th {\n",
       "        text-align: right;\n",
       "    }\n",
       "</style>\n",
       "<table border=\"1\" class=\"dataframe\">\n",
       "  <thead>\n",
       "    <tr style=\"text-align: right;\">\n",
       "      <th></th>\n",
       "      <th>id</th>\n",
       "      <th>dataset</th>\n",
       "      <th>answer</th>\n",
       "      <th>context</th>\n",
       "      <th>context_length</th>\n",
       "      <th>model_response</th>\n",
       "      <th>decision</th>\n",
       "      <th>problematic_spans</th>\n",
       "      <th>question</th>\n",
       "    </tr>\n",
       "  </thead>\n",
       "  <tbody>\n",
       "  </tbody>\n",
       "</table>\n",
       "</div>"
      ],
      "text/plain": [
       "Empty DataFrame\n",
       "Columns: [id, dataset, answer, context, context_length, model_response, decision, problematic_spans, question]\n",
       "Index: []"
      ]
     },
     "execution_count": 8,
     "metadata": {},
     "output_type": "execute_result"
    }
   ],
   "source": [
    "df.loc[df['question'].isna()]"
   ]
  },
  {
   "cell_type": "code",
   "execution_count": 9,
   "metadata": {},
   "outputs": [],
   "source": [
    "df.to_parquet('/net/pr2/projects/plgrid/plggllmhallu/hallu/llama2_resps/llama2_pure/evaluated_df.parquet')"
   ]
  },
  {
   "cell_type": "code",
   "execution_count": 2,
   "metadata": {},
   "outputs": [],
   "source": [
    "DOLA_RESP_DIR = 'dola_resps'\n",
    "DOLA_LOW_DIR = 'dola_low_llama2_7b'\n",
    "DOLA_HIGH_DIR = 'dola_high_llama2_7b'\n",
    "LLAMA_RESP_DIR = 'llama2_resps'\n",
    "OUR_DS_DIR = 'our_ds'\n",
    "LLAMA_PURE = 'llama2_pure'\n",
    "LLAMA_LOOKBACK = 'llama2_ll_orig_nq_clf'\n",
    "FILENAME = 'evaluated_df.parquet'"
   ]
  },
  {
   "cell_type": "code",
   "execution_count": 3,
   "metadata": {},
   "outputs": [],
   "source": [
    "DOLA_HIGH_PATH = os.path.join(DOLA_RESP_DIR, DOLA_HIGH_DIR, FILENAME)\n",
    "DOLA_LOW_PATH = os.path.join(DOLA_RESP_DIR, DOLA_LOW_DIR, FILENAME)\n",
    "LLAMA_PATH = os.path.join(LLAMA_RESP_DIR, OUR_DS_DIR, LLAMA_PURE, FILENAME)\n",
    "LOOKBACK_PATH = os.path.join(LLAMA_RESP_DIR, OUR_DS_DIR, LLAMA_LOOKBACK, FILENAME)"
   ]
  },
  {
   "cell_type": "code",
   "execution_count": 38,
   "metadata": {},
   "outputs": [],
   "source": [
    "df1 = pd.read_parquet('/net/pr2/projects/plgrid/plggllmhallu/hallu/llama2_resps/our_ds/llama2_pure/evaluated_df.parquet')\n",
    "df2 = pd.read_parquet('/net/pr2/projects/plgrid/plggllmhallu/hallu/llama2_resps/our_ds/llama2_ll_orig_nq_clf/evaluated_df.parquet')"
   ]
  },
  {
   "cell_type": "code",
   "execution_count": 39,
   "metadata": {},
   "outputs": [
    {
     "data": {
      "text/plain": [
       "True"
      ]
     },
     "execution_count": 39,
     "metadata": {},
     "output_type": "execute_result"
    }
   ],
   "source": [
    "df1.equals(df2)"
   ]
  },
  {
   "cell_type": "code",
   "execution_count": 40,
   "metadata": {},
   "outputs": [
    {
     "data": {
      "text/html": [
       "<div>\n",
       "<style scoped>\n",
       "    .dataframe tbody tr th:only-of-type {\n",
       "        vertical-align: middle;\n",
       "    }\n",
       "\n",
       "    .dataframe tbody tr th {\n",
       "        vertical-align: top;\n",
       "    }\n",
       "\n",
       "    .dataframe thead th {\n",
       "        text-align: right;\n",
       "    }\n",
       "</style>\n",
       "<table border=\"1\" class=\"dataframe\">\n",
       "  <thead>\n",
       "    <tr style=\"text-align: right;\">\n",
       "      <th></th>\n",
       "      <th>id</th>\n",
       "      <th>dataset</th>\n",
       "      <th>query</th>\n",
       "      <th>answer</th>\n",
       "      <th>context</th>\n",
       "      <th>context_length</th>\n",
       "      <th>model_response</th>\n",
       "      <th>decision</th>\n",
       "      <th>problematic_spans</th>\n",
       "    </tr>\n",
       "  </thead>\n",
       "  <tbody>\n",
       "    <tr>\n",
       "      <th>0</th>\n",
       "      <td>nq_0</td>\n",
       "      <td>nq</td>\n",
       "      <td>who got the first nobel prize in physics</td>\n",
       "      <td>Wilhelm Conrad Röntgen</td>\n",
       "      <td>`Dokument [ \"Nobel Prize in Physics\" ]:` recei...</td>\n",
       "      <td>1643.0</td>\n",
       "      <td>The first Nobel Prize in Physics was awarded i...</td>\n",
       "      <td>True</td>\n",
       "      <td>[]</td>\n",
       "    </tr>\n",
       "    <tr>\n",
       "      <th>1</th>\n",
       "      <td>nq_1</td>\n",
       "      <td>nq</td>\n",
       "      <td>when is the next deadpool movie being released</td>\n",
       "      <td>May 18, 2018</td>\n",
       "      <td>`Dokument [ \"Deadpool (video game)\" ]:` 2015 i...</td>\n",
       "      <td>1505.0</td>\n",
       "      <td>Based on the provided context, the next Deadpo...</td>\n",
       "      <td>True</td>\n",
       "      <td>[]</td>\n",
       "    </tr>\n",
       "    <tr>\n",
       "      <th>2</th>\n",
       "      <td>nq_2</td>\n",
       "      <td>nq</td>\n",
       "      <td>the south west wind blows across nigeria between</td>\n",
       "      <td>till September</td>\n",
       "      <td>`Dokument [ \"Geography of Nigeria\" ]:` south a...</td>\n",
       "      <td>1442.0</td>\n",
       "      <td>Based on the provided context, the south west ...</td>\n",
       "      <td>False</td>\n",
       "      <td>[between February and June]</td>\n",
       "    </tr>\n",
       "    <tr>\n",
       "      <th>3</th>\n",
       "      <td>nq_3</td>\n",
       "      <td>nq</td>\n",
       "      <td>what does hp mean in war and order</td>\n",
       "      <td>hit points or health points</td>\n",
       "      <td>`Dokument [ \"Order of War\" ]:` Order of War Or...</td>\n",
       "      <td>1448.0</td>\n",
       "      <td>In the context of war and order, HP (or hit po...</td>\n",
       "      <td>False</td>\n",
       "      <td>[In the context of war and order, HP (or hit p...</td>\n",
       "    </tr>\n",
       "    <tr>\n",
       "      <th>4</th>\n",
       "      <td>nq_4</td>\n",
       "      <td>nq</td>\n",
       "      <td>who wrote the first declaration of human rights</td>\n",
       "      <td>Cyrus</td>\n",
       "      <td>`Dokument [ \"Drafting of the Universal Declara...</td>\n",
       "      <td>1670.0</td>\n",
       "      <td>Based on the provided context, the answer to y...</td>\n",
       "      <td>False</td>\n",
       "      <td>[John Peters Humphrey wrote the first declarat...</td>\n",
       "    </tr>\n",
       "    <tr>\n",
       "      <th>...</th>\n",
       "      <td>...</td>\n",
       "      <td>...</td>\n",
       "      <td>...</td>\n",
       "      <td>...</td>\n",
       "      <td>...</td>\n",
       "      <td>...</td>\n",
       "      <td>...</td>\n",
       "      <td>...</td>\n",
       "      <td>...</td>\n",
       "    </tr>\n",
       "    <tr>\n",
       "      <th>6241</th>\n",
       "      <td>bioask_440</td>\n",
       "      <td>bioask</td>\n",
       "      <td>Jaki jest odsetek osób reagujących na leczenie...</td>\n",
       "      <td>Tetrabenazyna jest stosowana empirycznie w lec...</td>\n",
       "      <td>`Dokument [1]:` WPROWADZENIE: Zwapnienia mózgu...</td>\n",
       "      <td>1882.0</td>\n",
       "      <td>Based on the given context, the answer to your...</td>\n",
       "      <td>False</td>\n",
       "      <td>[52% of children with dystonia achieved clinic...</td>\n",
       "    </tr>\n",
       "    <tr>\n",
       "      <th>6242</th>\n",
       "      <td>bioask_715</td>\n",
       "      <td>bioask</td>\n",
       "      <td>Która kinaza jest hamowana przez Tripolinę A?</td>\n",
       "      <td>Tripolina A zmniejszała lokalizację pAurory A ...</td>\n",
       "      <td>`Dokument [1]:` Regulatory mitotyczne wykazują...</td>\n",
       "      <td>741.0</td>\n",
       "      <td>Based on the provided context, Tripolin A hamu...</td>\n",
       "      <td>True</td>\n",
       "      <td>[]</td>\n",
       "    </tr>\n",
       "    <tr>\n",
       "      <th>6243</th>\n",
       "      <td>None</td>\n",
       "      <td>None</td>\n",
       "      <td>None</td>\n",
       "      <td>None</td>\n",
       "      <td>None</td>\n",
       "      <td>NaN</td>\n",
       "      <td>None</td>\n",
       "      <td>None</td>\n",
       "      <td>None</td>\n",
       "    </tr>\n",
       "    <tr>\n",
       "      <th>6244</th>\n",
       "      <td>bioask_1327</td>\n",
       "      <td>bioask</td>\n",
       "      <td>Czy istnieje różnica w szybkości fuzji i rozsz...</td>\n",
       "      <td>Tak. W kilku badaniach oszacowano, że fuzja i ...</td>\n",
       "      <td>`Dokument [1]:` Domeny białkowe są zwartymi ew...</td>\n",
       "      <td>2840.0</td>\n",
       "      <td>Yes, there is a difference in the speed of fus...</td>\n",
       "      <td>False</td>\n",
       "      <td>[duplication events, Fusion events are more co...</td>\n",
       "    </tr>\n",
       "    <tr>\n",
       "      <th>6245</th>\n",
       "      <td>bioask_511</td>\n",
       "      <td>bioask</td>\n",
       "      <td>Czy mutacje BBS są związane z zespołową chorob...</td>\n",
       "      <td>W 3 rodzinach z zespołem Bardeta-Biedla (BBS) ...</td>\n",
       "      <td>`Dokument [1]:` Choroba Hirschsprunga (HSCR) j...</td>\n",
       "      <td>494.0</td>\n",
       "      <td>Yes, mutations in the BBS gene are associated ...</td>\n",
       "      <td>False</td>\n",
       "      <td>[exacerbate the symptoms of Hirschsprung's dis...</td>\n",
       "    </tr>\n",
       "  </tbody>\n",
       "</table>\n",
       "<p>6246 rows × 9 columns</p>\n",
       "</div>"
      ],
      "text/plain": [
       "               id dataset                                              query  \\\n",
       "0            nq_0      nq           who got the first nobel prize in physics   \n",
       "1            nq_1      nq     when is the next deadpool movie being released   \n",
       "2            nq_2      nq   the south west wind blows across nigeria between   \n",
       "3            nq_3      nq                 what does hp mean in war and order   \n",
       "4            nq_4      nq    who wrote the first declaration of human rights   \n",
       "...           ...     ...                                                ...   \n",
       "6241   bioask_440  bioask  Jaki jest odsetek osób reagujących na leczenie...   \n",
       "6242   bioask_715  bioask      Która kinaza jest hamowana przez Tripolinę A?   \n",
       "6243         None    None                                               None   \n",
       "6244  bioask_1327  bioask  Czy istnieje różnica w szybkości fuzji i rozsz...   \n",
       "6245   bioask_511  bioask  Czy mutacje BBS są związane z zespołową chorob...   \n",
       "\n",
       "                                                 answer  \\\n",
       "0                                Wilhelm Conrad Röntgen   \n",
       "1                                          May 18, 2018   \n",
       "2                                        till September   \n",
       "3                           hit points or health points   \n",
       "4                                                 Cyrus   \n",
       "...                                                 ...   \n",
       "6241  Tetrabenazyna jest stosowana empirycznie w lec...   \n",
       "6242  Tripolina A zmniejszała lokalizację pAurory A ...   \n",
       "6243                                               None   \n",
       "6244  Tak. W kilku badaniach oszacowano, że fuzja i ...   \n",
       "6245  W 3 rodzinach z zespołem Bardeta-Biedla (BBS) ...   \n",
       "\n",
       "                                                context  context_length  \\\n",
       "0     `Dokument [ \"Nobel Prize in Physics\" ]:` recei...          1643.0   \n",
       "1     `Dokument [ \"Deadpool (video game)\" ]:` 2015 i...          1505.0   \n",
       "2     `Dokument [ \"Geography of Nigeria\" ]:` south a...          1442.0   \n",
       "3     `Dokument [ \"Order of War\" ]:` Order of War Or...          1448.0   \n",
       "4     `Dokument [ \"Drafting of the Universal Declara...          1670.0   \n",
       "...                                                 ...             ...   \n",
       "6241  `Dokument [1]:` WPROWADZENIE: Zwapnienia mózgu...          1882.0   \n",
       "6242  `Dokument [1]:` Regulatory mitotyczne wykazują...           741.0   \n",
       "6243                                               None             NaN   \n",
       "6244  `Dokument [1]:` Domeny białkowe są zwartymi ew...          2840.0   \n",
       "6245  `Dokument [1]:` Choroba Hirschsprunga (HSCR) j...           494.0   \n",
       "\n",
       "                                         model_response decision  \\\n",
       "0     The first Nobel Prize in Physics was awarded i...     True   \n",
       "1     Based on the provided context, the next Deadpo...     True   \n",
       "2     Based on the provided context, the south west ...    False   \n",
       "3     In the context of war and order, HP (or hit po...    False   \n",
       "4     Based on the provided context, the answer to y...    False   \n",
       "...                                                 ...      ...   \n",
       "6241  Based on the given context, the answer to your...    False   \n",
       "6242  Based on the provided context, Tripolin A hamu...     True   \n",
       "6243                                               None     None   \n",
       "6244  Yes, there is a difference in the speed of fus...    False   \n",
       "6245  Yes, mutations in the BBS gene are associated ...    False   \n",
       "\n",
       "                                      problematic_spans  \n",
       "0                                                    []  \n",
       "1                                                    []  \n",
       "2                           [between February and June]  \n",
       "3     [In the context of war and order, HP (or hit p...  \n",
       "4     [John Peters Humphrey wrote the first declarat...  \n",
       "...                                                 ...  \n",
       "6241  [52% of children with dystonia achieved clinic...  \n",
       "6242                                                 []  \n",
       "6243                                               None  \n",
       "6244  [duplication events, Fusion events are more co...  \n",
       "6245  [exacerbate the symptoms of Hirschsprung's dis...  \n",
       "\n",
       "[6246 rows x 9 columns]"
      ]
     },
     "execution_count": 40,
     "metadata": {},
     "output_type": "execute_result"
    }
   ],
   "source": [
    "df1"
   ]
  },
  {
   "cell_type": "code",
   "execution_count": 4,
   "metadata": {},
   "outputs": [
    {
     "data": {
      "text/plain": [
       "'dola_resps/dola_high_llama2_7b/evaluated_df.parquet'"
      ]
     },
     "execution_count": 4,
     "metadata": {},
     "output_type": "execute_result"
    }
   ],
   "source": [
    "DOLA_HIGH_PATH"
   ]
  },
  {
   "cell_type": "code",
   "execution_count": 5,
   "metadata": {},
   "outputs": [
    {
     "data": {
      "text/plain": [
       "'/net/pr2/projects/plgrid/plggllmhallu/hallu'"
      ]
     },
     "execution_count": 5,
     "metadata": {},
     "output_type": "execute_result"
    }
   ],
   "source": [
    "os.getcwd()"
   ]
  },
  {
   "cell_type": "code",
   "execution_count": 11,
   "metadata": {},
   "outputs": [],
   "source": [
    "COLS = ['id', 'dataset', 'model_response', 'decision']"
   ]
  },
  {
   "cell_type": "code",
   "execution_count": 13,
   "metadata": {},
   "outputs": [],
   "source": [
    "df_dola_high = pd.read_parquet(DOLA_HIGH_PATH, columns=COLS)\n",
    "df_dola_low = pd.read_parquet(DOLA_LOW_PATH, columns=COLS)\n",
    "df_llama = pd.read_parquet(LLAMA_PATH, columns=COLS)\n",
    "df_lookback = pd.read_parquet(LOOKBACK_PATH, columns=COLS)"
   ]
  },
  {
   "cell_type": "code",
   "execution_count": 30,
   "metadata": {},
   "outputs": [
    {
     "data": {
      "text/html": [
       "<div>\n",
       "<style scoped>\n",
       "    .dataframe tbody tr th:only-of-type {\n",
       "        vertical-align: middle;\n",
       "    }\n",
       "\n",
       "    .dataframe tbody tr th {\n",
       "        vertical-align: top;\n",
       "    }\n",
       "\n",
       "    .dataframe thead th {\n",
       "        text-align: right;\n",
       "    }\n",
       "</style>\n",
       "<table border=\"1\" class=\"dataframe\">\n",
       "  <thead>\n",
       "    <tr style=\"text-align: right;\">\n",
       "      <th></th>\n",
       "      <th>id</th>\n",
       "      <th>dataset</th>\n",
       "      <th>model_response</th>\n",
       "      <th>decision</th>\n",
       "    </tr>\n",
       "  </thead>\n",
       "  <tbody>\n",
       "    <tr>\n",
       "      <th>0</th>\n",
       "      <td>nq_0</td>\n",
       "      <td>nq</td>\n",
       "      <td>The first Nobel Prize in Physics was awarded i...</td>\n",
       "      <td>True</td>\n",
       "    </tr>\n",
       "    <tr>\n",
       "      <th>1</th>\n",
       "      <td>nq_1</td>\n",
       "      <td>nq</td>\n",
       "      <td>Based on the provided context, the next Deadpo...</td>\n",
       "      <td>True</td>\n",
       "    </tr>\n",
       "    <tr>\n",
       "      <th>2</th>\n",
       "      <td>nq_2</td>\n",
       "      <td>nq</td>\n",
       "      <td>Based on the provided context, the south west ...</td>\n",
       "      <td>False</td>\n",
       "    </tr>\n",
       "    <tr>\n",
       "      <th>3</th>\n",
       "      <td>nq_3</td>\n",
       "      <td>nq</td>\n",
       "      <td>In the context of war and order, HP (or hit po...</td>\n",
       "      <td>False</td>\n",
       "    </tr>\n",
       "    <tr>\n",
       "      <th>4</th>\n",
       "      <td>nq_4</td>\n",
       "      <td>nq</td>\n",
       "      <td>Based on the provided context, the answer to y...</td>\n",
       "      <td>False</td>\n",
       "    </tr>\n",
       "    <tr>\n",
       "      <th>...</th>\n",
       "      <td>...</td>\n",
       "      <td>...</td>\n",
       "      <td>...</td>\n",
       "      <td>...</td>\n",
       "    </tr>\n",
       "    <tr>\n",
       "      <th>6240</th>\n",
       "      <td>bioask_347</td>\n",
       "      <td>bioask</td>\n",
       "      <td>Based on the provided context, the subcompartm...</td>\n",
       "      <td>True</td>\n",
       "    </tr>\n",
       "    <tr>\n",
       "      <th>6241</th>\n",
       "      <td>bioask_440</td>\n",
       "      <td>bioask</td>\n",
       "      <td>Based on the given context, the answer to your...</td>\n",
       "      <td>False</td>\n",
       "    </tr>\n",
       "    <tr>\n",
       "      <th>6242</th>\n",
       "      <td>bioask_715</td>\n",
       "      <td>bioask</td>\n",
       "      <td>Based on the provided context, Tripolin A hamu...</td>\n",
       "      <td>True</td>\n",
       "    </tr>\n",
       "    <tr>\n",
       "      <th>6244</th>\n",
       "      <td>bioask_1327</td>\n",
       "      <td>bioask</td>\n",
       "      <td>Yes, there is a difference in the speed of fus...</td>\n",
       "      <td>False</td>\n",
       "    </tr>\n",
       "    <tr>\n",
       "      <th>6245</th>\n",
       "      <td>bioask_511</td>\n",
       "      <td>bioask</td>\n",
       "      <td>Yes, mutations in the BBS gene are associated ...</td>\n",
       "      <td>False</td>\n",
       "    </tr>\n",
       "  </tbody>\n",
       "</table>\n",
       "<p>6064 rows × 4 columns</p>\n",
       "</div>"
      ],
      "text/plain": [
       "               id dataset                                     model_response  \\\n",
       "0            nq_0      nq  The first Nobel Prize in Physics was awarded i...   \n",
       "1            nq_1      nq  Based on the provided context, the next Deadpo...   \n",
       "2            nq_2      nq  Based on the provided context, the south west ...   \n",
       "3            nq_3      nq  In the context of war and order, HP (or hit po...   \n",
       "4            nq_4      nq  Based on the provided context, the answer to y...   \n",
       "...           ...     ...                                                ...   \n",
       "6240   bioask_347  bioask  Based on the provided context, the subcompartm...   \n",
       "6241   bioask_440  bioask  Based on the given context, the answer to your...   \n",
       "6242   bioask_715  bioask  Based on the provided context, Tripolin A hamu...   \n",
       "6244  bioask_1327  bioask  Yes, there is a difference in the speed of fus...   \n",
       "6245   bioask_511  bioask  Yes, mutations in the BBS gene are associated ...   \n",
       "\n",
       "     decision  \n",
       "0        True  \n",
       "1        True  \n",
       "2       False  \n",
       "3       False  \n",
       "4       False  \n",
       "...       ...  \n",
       "6240     True  \n",
       "6241    False  \n",
       "6242     True  \n",
       "6244    False  \n",
       "6245    False  \n",
       "\n",
       "[6064 rows x 4 columns]"
      ]
     },
     "execution_count": 30,
     "metadata": {},
     "output_type": "execute_result"
    }
   ],
   "source": [
    "df_llama"
   ]
  },
  {
   "cell_type": "code",
   "execution_count": 33,
   "metadata": {},
   "outputs": [
    {
     "data": {
      "text/plain": [
       "id                True\n",
       "dataset           True\n",
       "model_response    True\n",
       "decision          True\n",
       "dtype: bool"
      ]
     },
     "execution_count": 33,
     "metadata": {},
     "output_type": "execute_result"
    }
   ],
   "source": [
    "(df_llama == df_lookback).all()"
   ]
  },
  {
   "cell_type": "code",
   "execution_count": 14,
   "metadata": {},
   "outputs": [],
   "source": [
    "df_dola_high.dropna(inplace=True)\n",
    "df_dola_low.dropna(inplace=True)\n",
    "df_llama.dropna(inplace=True)\n",
    "df_lookback.dropna(inplace=True)"
   ]
  },
  {
   "cell_type": "code",
   "execution_count": 36,
   "metadata": {},
   "outputs": [],
   "source": [
    "df_metrics = None\n",
    "for df, n in zip([df_dola_high, df_dola_low, df_llama, df_lookback], ['dola_high', 'dola_low', 'llama_pure', 'llama_lookback']):\n",
    "\n",
    "    if df_metrics is None:\n",
    "        df_metrics = df.groupby(['dataset'])['decision'].value_counts(normalize=True).to_frame().reset_index().round(3).rename(columns={'proportion': n})\n",
    "    else:\n",
    "\n",
    "        df_metrics = df_metrics.merge(\n",
    "            df.groupby(['dataset'])['decision'].value_counts(normalize=True).to_frame().reset_index().round(3).rename(columns={'proportion': n}), \n",
    "            on=['dataset', 'decision'], how='outer'\n",
    "        )\n",
    "    \n",
    "\n",
    "df_metrics = df_metrics.T.drop_duplicates().T"
   ]
  },
  {
   "cell_type": "code",
   "execution_count": null,
   "metadata": {},
   "outputs": [],
   "source": []
  },
  {
   "cell_type": "code",
   "execution_count": 37,
   "metadata": {},
   "outputs": [
    {
     "data": {
      "text/html": [
       "<div>\n",
       "<style scoped>\n",
       "    .dataframe tbody tr th:only-of-type {\n",
       "        vertical-align: middle;\n",
       "    }\n",
       "\n",
       "    .dataframe tbody tr th {\n",
       "        vertical-align: top;\n",
       "    }\n",
       "\n",
       "    .dataframe thead th {\n",
       "        text-align: right;\n",
       "    }\n",
       "</style>\n",
       "<table border=\"1\" class=\"dataframe\">\n",
       "  <thead>\n",
       "    <tr style=\"text-align: right;\">\n",
       "      <th></th>\n",
       "      <th>dataset</th>\n",
       "      <th>decision</th>\n",
       "      <th>dola_high</th>\n",
       "      <th>dola_low</th>\n",
       "      <th>llama_pure</th>\n",
       "    </tr>\n",
       "  </thead>\n",
       "  <tbody>\n",
       "    <tr>\n",
       "      <th>0</th>\n",
       "      <td>bioask</td>\n",
       "      <td>True</td>\n",
       "      <td>0.852</td>\n",
       "      <td>0.887</td>\n",
       "      <td>0.245</td>\n",
       "    </tr>\n",
       "    <tr>\n",
       "      <th>1</th>\n",
       "      <td>bioask</td>\n",
       "      <td>False</td>\n",
       "      <td>0.148</td>\n",
       "      <td>0.113</td>\n",
       "      <td>0.755</td>\n",
       "    </tr>\n",
       "    <tr>\n",
       "      <th>2</th>\n",
       "      <td>hotpotqa_en</td>\n",
       "      <td>True</td>\n",
       "      <td>0.843</td>\n",
       "      <td>0.85</td>\n",
       "      <td>0.53</td>\n",
       "    </tr>\n",
       "    <tr>\n",
       "      <th>3</th>\n",
       "      <td>hotpotqa_en</td>\n",
       "      <td>False</td>\n",
       "      <td>0.157</td>\n",
       "      <td>0.15</td>\n",
       "      <td>0.47</td>\n",
       "    </tr>\n",
       "    <tr>\n",
       "      <th>4</th>\n",
       "      <td>hotpotqa_pl</td>\n",
       "      <td>True</td>\n",
       "      <td>0.845</td>\n",
       "      <td>0.859</td>\n",
       "      <td>0.435</td>\n",
       "    </tr>\n",
       "    <tr>\n",
       "      <th>5</th>\n",
       "      <td>hotpotqa_pl</td>\n",
       "      <td>False</td>\n",
       "      <td>0.155</td>\n",
       "      <td>0.141</td>\n",
       "      <td>0.565</td>\n",
       "    </tr>\n",
       "    <tr>\n",
       "      <th>6</th>\n",
       "      <td>nq</td>\n",
       "      <td>True</td>\n",
       "      <td>0.828</td>\n",
       "      <td>0.839</td>\n",
       "      <td>0.482</td>\n",
       "    </tr>\n",
       "    <tr>\n",
       "      <th>7</th>\n",
       "      <td>nq</td>\n",
       "      <td>False</td>\n",
       "      <td>0.172</td>\n",
       "      <td>0.161</td>\n",
       "      <td>0.518</td>\n",
       "    </tr>\n",
       "    <tr>\n",
       "      <th>8</th>\n",
       "      <td>polqa</td>\n",
       "      <td>True</td>\n",
       "      <td>0.773</td>\n",
       "      <td>0.788</td>\n",
       "      <td>0.388</td>\n",
       "    </tr>\n",
       "    <tr>\n",
       "      <th>9</th>\n",
       "      <td>polqa</td>\n",
       "      <td>False</td>\n",
       "      <td>0.227</td>\n",
       "      <td>0.212</td>\n",
       "      <td>0.612</td>\n",
       "    </tr>\n",
       "    <tr>\n",
       "      <th>10</th>\n",
       "      <td>poquad_v2</td>\n",
       "      <td>True</td>\n",
       "      <td>0.875</td>\n",
       "      <td>0.896</td>\n",
       "      <td>0.401</td>\n",
       "    </tr>\n",
       "    <tr>\n",
       "      <th>11</th>\n",
       "      <td>poquad_v2</td>\n",
       "      <td>False</td>\n",
       "      <td>0.125</td>\n",
       "      <td>0.104</td>\n",
       "      <td>0.599</td>\n",
       "    </tr>\n",
       "  </tbody>\n",
       "</table>\n",
       "</div>"
      ],
      "text/plain": [
       "        dataset decision dola_high dola_low llama_pure\n",
       "0        bioask     True     0.852    0.887      0.245\n",
       "1        bioask    False     0.148    0.113      0.755\n",
       "2   hotpotqa_en     True     0.843     0.85       0.53\n",
       "3   hotpotqa_en    False     0.157     0.15       0.47\n",
       "4   hotpotqa_pl     True     0.845    0.859      0.435\n",
       "5   hotpotqa_pl    False     0.155    0.141      0.565\n",
       "6            nq     True     0.828    0.839      0.482\n",
       "7            nq    False     0.172    0.161      0.518\n",
       "8         polqa     True     0.773    0.788      0.388\n",
       "9         polqa    False     0.227    0.212      0.612\n",
       "10    poquad_v2     True     0.875    0.896      0.401\n",
       "11    poquad_v2    False     0.125    0.104      0.599"
      ]
     },
     "execution_count": 37,
     "metadata": {},
     "output_type": "execute_result"
    }
   ],
   "source": [
    "df_metrics"
   ]
  }
 ],
 "metadata": {
  "kernelspec": {
   "display_name": "hallu",
   "language": "python",
   "name": "python3"
  },
  "language_info": {
   "codemirror_mode": {
    "name": "ipython",
    "version": 3
   },
   "file_extension": ".py",
   "mimetype": "text/x-python",
   "name": "python",
   "nbconvert_exporter": "python",
   "pygments_lexer": "ipython3",
   "version": "3.10.11"
  }
 },
 "nbformat": 4,
 "nbformat_minor": 2
}
