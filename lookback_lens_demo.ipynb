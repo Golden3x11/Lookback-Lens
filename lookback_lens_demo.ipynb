{
  "nbformat": 4,
  "nbformat_minor": 0,
  "metadata": {
    "colab": {
      "provenance": []
    },
    "kernelspec": {
      "name": "python3",
      "display_name": "Python 3"
    },
    "language_info": {
      "name": "python"
    }
  },
  "cells": [
    {
      "cell_type": "markdown",
      "source": [
        "# Lookback Lens 🔎 🦙"
      ],
      "metadata": {
        "id": "-eTGSa-OlKDq"
      }
    },
    {
      "cell_type": "markdown",
      "source": [
        "Demo code for the paper __\"Detecting and Mitigating Contextual Hallucinations in Large Language Models Using Only Attention Maps\"__\n",
        "\n",
        "\n",
        "> TL;DR: We designed a method only using attention maps information (lookback ratio) to detect contextual hallucinations. The detector can be used to reduce hallucination during decoding.\n",
        "\n",
        "Paper: https://arxiv.org/abs/2407.07071  \n",
        "Code: https://github.com/voidism/Lookback-Lens  \n",
        "Twitter discussion: https://x.com/YungSungChuang/status/1811047314397724882  "
      ],
      "metadata": {
        "id": "qwYxV9U-oHkO"
      }
    },
    {
      "cell_type": "markdown",
      "source": [
        "### Installation"
      ],
      "metadata": {
        "id": "4fr38OB2npuP"
      }
    },
    {
      "cell_type": "code",
      "execution_count": 2,
      "metadata": {
        "colab": {
          "base_uri": "https://localhost:8080/"
        },
        "id": "CiKS1oTxPul9",
        "outputId": "100cf3e9-652d-4695-d0dd-ee8aa3401ee4"
      },
      "outputs": [
        {
          "output_type": "stream",
          "name": "stdout",
          "text": [
            "Cloning into 'Lookback-Lens'...\n",
            "remote: Enumerating objects: 3809, done.\u001b[K\n",
            "remote: Counting objects: 100% (3809/3809), done.\u001b[K\n",
            "remote: Compressing objects: 100% (2766/2766), done.\u001b[K\n",
            "remote: Total 3809 (delta 998), reused 3808 (delta 997), pack-reused 0\u001b[K\n",
            "Receiving objects: 100% (3809/3809), 22.87 MiB | 16.46 MiB/s, done.\n",
            "Resolving deltas: 100% (998/998), done.\n"
          ]
        }
      ],
      "source": [
        "!git clone https://github.com/voidism/Lookback-Lens.git"
      ]
    },
    {
      "cell_type": "code",
      "source": [
        "!cd Lookback-Lens && pip install -r requirements.txt\n",
        "!cd Lookback-Lens/transformers-4.32.0 && pip install -e ."
      ],
      "metadata": {
        "colab": {
          "base_uri": "https://localhost:8080/"
        },
        "id": "qR9pqdA7RwIU",
        "outputId": "8e2fc1cb-a9d6-4b98-c43b-12e38daccfd4"
      },
      "execution_count": 4,
      "outputs": [
        {
          "output_type": "stream",
          "name": "stdout",
          "text": [
            "Collecting torch==2.0.0 (from -r requirements.txt (line 1))\n",
            "  Downloading torch-2.0.0-cp310-cp310-manylinux1_x86_64.whl.metadata (24 kB)\n",
            "Collecting numpy==1.26.2 (from -r requirements.txt (line 2))\n",
            "  Downloading numpy-1.26.2-cp310-cp310-manylinux_2_17_x86_64.manylinux2014_x86_64.whl.metadata (61 kB)\n",
            "\u001b[2K     \u001b[90m━━━━━━━━━━━━━━━━━━━━━━━━━━━━━━━━━━━━━━━━\u001b[0m \u001b[32m61.2/61.2 kB\u001b[0m \u001b[31m3.7 MB/s\u001b[0m eta \u001b[36m0:00:00\u001b[0m\n",
            "\u001b[?25hRequirement already satisfied: scipy in /usr/local/lib/python3.10/dist-packages (from -r requirements.txt (line 3)) (1.11.4)\n",
            "Collecting tiktoken (from -r requirements.txt (line 4))\n",
            "  Downloading tiktoken-0.7.0-cp310-cp310-manylinux_2_17_x86_64.manylinux2014_x86_64.whl.metadata (6.6 kB)\n",
            "Collecting openai (from -r requirements.txt (line 5))\n",
            "  Downloading openai-1.37.0-py3-none-any.whl.metadata (22 kB)\n",
            "Requirement already satisfied: editdistance in /usr/local/lib/python3.10/dist-packages (from -r requirements.txt (line 6)) (0.6.2)\n",
            "Requirement already satisfied: scikit-learn in /usr/local/lib/python3.10/dist-packages (from -r requirements.txt (line 7)) (1.2.2)\n",
            "Requirement already satisfied: accelerate in /usr/local/lib/python3.10/dist-packages (from -r requirements.txt (line 8)) (0.32.1)\n",
            "Requirement already satisfied: filelock in /usr/local/lib/python3.10/dist-packages (from torch==2.0.0->-r requirements.txt (line 1)) (3.15.4)\n",
            "Requirement already satisfied: typing-extensions in /usr/local/lib/python3.10/dist-packages (from torch==2.0.0->-r requirements.txt (line 1)) (4.12.2)\n",
            "Requirement already satisfied: sympy in /usr/local/lib/python3.10/dist-packages (from torch==2.0.0->-r requirements.txt (line 1)) (1.13.1)\n",
            "Requirement already satisfied: networkx in /usr/local/lib/python3.10/dist-packages (from torch==2.0.0->-r requirements.txt (line 1)) (3.3)\n",
            "Requirement already satisfied: jinja2 in /usr/local/lib/python3.10/dist-packages (from torch==2.0.0->-r requirements.txt (line 1)) (3.1.4)\n",
            "Collecting nvidia-cuda-nvrtc-cu11==11.7.99 (from torch==2.0.0->-r requirements.txt (line 1))\n",
            "  Downloading nvidia_cuda_nvrtc_cu11-11.7.99-2-py3-none-manylinux1_x86_64.whl.metadata (1.5 kB)\n",
            "Collecting nvidia-cuda-runtime-cu11==11.7.99 (from torch==2.0.0->-r requirements.txt (line 1))\n",
            "  Downloading nvidia_cuda_runtime_cu11-11.7.99-py3-none-manylinux1_x86_64.whl.metadata (1.6 kB)\n",
            "Collecting nvidia-cuda-cupti-cu11==11.7.101 (from torch==2.0.0->-r requirements.txt (line 1))\n",
            "  Downloading nvidia_cuda_cupti_cu11-11.7.101-py3-none-manylinux1_x86_64.whl.metadata (1.6 kB)\n",
            "Collecting nvidia-cudnn-cu11==8.5.0.96 (from torch==2.0.0->-r requirements.txt (line 1))\n",
            "  Downloading nvidia_cudnn_cu11-8.5.0.96-2-py3-none-manylinux1_x86_64.whl.metadata (1.6 kB)\n",
            "Collecting nvidia-cublas-cu11==11.10.3.66 (from torch==2.0.0->-r requirements.txt (line 1))\n",
            "  Downloading nvidia_cublas_cu11-11.10.3.66-py3-none-manylinux1_x86_64.whl.metadata (1.6 kB)\n",
            "Collecting nvidia-cufft-cu11==10.9.0.58 (from torch==2.0.0->-r requirements.txt (line 1))\n",
            "  Downloading nvidia_cufft_cu11-10.9.0.58-py3-none-manylinux1_x86_64.whl.metadata (1.5 kB)\n",
            "Collecting nvidia-curand-cu11==10.2.10.91 (from torch==2.0.0->-r requirements.txt (line 1))\n",
            "  Downloading nvidia_curand_cu11-10.2.10.91-py3-none-manylinux1_x86_64.whl.metadata (1.6 kB)\n",
            "Collecting nvidia-cusolver-cu11==11.4.0.1 (from torch==2.0.0->-r requirements.txt (line 1))\n",
            "  Downloading nvidia_cusolver_cu11-11.4.0.1-2-py3-none-manylinux1_x86_64.whl.metadata (1.6 kB)\n",
            "Collecting nvidia-cusparse-cu11==11.7.4.91 (from torch==2.0.0->-r requirements.txt (line 1))\n",
            "  Downloading nvidia_cusparse_cu11-11.7.4.91-py3-none-manylinux1_x86_64.whl.metadata (1.6 kB)\n",
            "Collecting nvidia-nccl-cu11==2.14.3 (from torch==2.0.0->-r requirements.txt (line 1))\n",
            "  Downloading nvidia_nccl_cu11-2.14.3-py3-none-manylinux1_x86_64.whl.metadata (1.8 kB)\n",
            "Collecting nvidia-nvtx-cu11==11.7.91 (from torch==2.0.0->-r requirements.txt (line 1))\n",
            "  Downloading nvidia_nvtx_cu11-11.7.91-py3-none-manylinux1_x86_64.whl.metadata (1.7 kB)\n",
            "Collecting triton==2.0.0 (from torch==2.0.0->-r requirements.txt (line 1))\n",
            "  Downloading triton-2.0.0-1-cp310-cp310-manylinux2014_x86_64.manylinux_2_17_x86_64.whl.metadata (1.0 kB)\n",
            "Requirement already satisfied: setuptools in /usr/local/lib/python3.10/dist-packages (from nvidia-cublas-cu11==11.10.3.66->torch==2.0.0->-r requirements.txt (line 1)) (71.0.4)\n",
            "Requirement already satisfied: wheel in /usr/local/lib/python3.10/dist-packages (from nvidia-cublas-cu11==11.10.3.66->torch==2.0.0->-r requirements.txt (line 1)) (0.43.0)\n",
            "Requirement already satisfied: cmake in /usr/local/lib/python3.10/dist-packages (from triton==2.0.0->torch==2.0.0->-r requirements.txt (line 1)) (3.27.9)\n",
            "Collecting lit (from triton==2.0.0->torch==2.0.0->-r requirements.txt (line 1))\n",
            "  Downloading lit-18.1.8-py3-none-any.whl.metadata (2.5 kB)\n",
            "Requirement already satisfied: regex>=2022.1.18 in /usr/local/lib/python3.10/dist-packages (from tiktoken->-r requirements.txt (line 4)) (2024.5.15)\n",
            "Requirement already satisfied: requests>=2.26.0 in /usr/local/lib/python3.10/dist-packages (from tiktoken->-r requirements.txt (line 4)) (2.31.0)\n",
            "Requirement already satisfied: anyio<5,>=3.5.0 in /usr/local/lib/python3.10/dist-packages (from openai->-r requirements.txt (line 5)) (3.7.1)\n",
            "Requirement already satisfied: distro<2,>=1.7.0 in /usr/lib/python3/dist-packages (from openai->-r requirements.txt (line 5)) (1.7.0)\n",
            "Collecting httpx<1,>=0.23.0 (from openai->-r requirements.txt (line 5))\n",
            "  Downloading httpx-0.27.0-py3-none-any.whl.metadata (7.2 kB)\n",
            "Requirement already satisfied: pydantic<3,>=1.9.0 in /usr/local/lib/python3.10/dist-packages (from openai->-r requirements.txt (line 5)) (2.8.2)\n",
            "Requirement already satisfied: sniffio in /usr/local/lib/python3.10/dist-packages (from openai->-r requirements.txt (line 5)) (1.3.1)\n",
            "Requirement already satisfied: tqdm>4 in /usr/local/lib/python3.10/dist-packages (from openai->-r requirements.txt (line 5)) (4.66.4)\n",
            "Requirement already satisfied: joblib>=1.1.1 in /usr/local/lib/python3.10/dist-packages (from scikit-learn->-r requirements.txt (line 7)) (1.4.2)\n",
            "Requirement already satisfied: threadpoolctl>=2.0.0 in /usr/local/lib/python3.10/dist-packages (from scikit-learn->-r requirements.txt (line 7)) (3.5.0)\n",
            "Requirement already satisfied: packaging>=20.0 in /usr/local/lib/python3.10/dist-packages (from accelerate->-r requirements.txt (line 8)) (24.1)\n",
            "Requirement already satisfied: psutil in /usr/local/lib/python3.10/dist-packages (from accelerate->-r requirements.txt (line 8)) (5.9.5)\n",
            "Requirement already satisfied: pyyaml in /usr/local/lib/python3.10/dist-packages (from accelerate->-r requirements.txt (line 8)) (6.0.1)\n",
            "Requirement already satisfied: huggingface-hub in /usr/local/lib/python3.10/dist-packages (from accelerate->-r requirements.txt (line 8)) (0.23.5)\n",
            "Requirement already satisfied: safetensors>=0.3.1 in /usr/local/lib/python3.10/dist-packages (from accelerate->-r requirements.txt (line 8)) (0.4.3)\n",
            "Requirement already satisfied: idna>=2.8 in /usr/local/lib/python3.10/dist-packages (from anyio<5,>=3.5.0->openai->-r requirements.txt (line 5)) (3.7)\n",
            "Requirement already satisfied: exceptiongroup in /usr/local/lib/python3.10/dist-packages (from anyio<5,>=3.5.0->openai->-r requirements.txt (line 5)) (1.2.2)\n",
            "Requirement already satisfied: certifi in /usr/local/lib/python3.10/dist-packages (from httpx<1,>=0.23.0->openai->-r requirements.txt (line 5)) (2024.7.4)\n",
            "Collecting httpcore==1.* (from httpx<1,>=0.23.0->openai->-r requirements.txt (line 5))\n",
            "  Downloading httpcore-1.0.5-py3-none-any.whl.metadata (20 kB)\n",
            "Collecting h11<0.15,>=0.13 (from httpcore==1.*->httpx<1,>=0.23.0->openai->-r requirements.txt (line 5))\n",
            "  Downloading h11-0.14.0-py3-none-any.whl.metadata (8.2 kB)\n",
            "Requirement already satisfied: annotated-types>=0.4.0 in /usr/local/lib/python3.10/dist-packages (from pydantic<3,>=1.9.0->openai->-r requirements.txt (line 5)) (0.7.0)\n",
            "Requirement already satisfied: pydantic-core==2.20.1 in /usr/local/lib/python3.10/dist-packages (from pydantic<3,>=1.9.0->openai->-r requirements.txt (line 5)) (2.20.1)\n",
            "Requirement already satisfied: charset-normalizer<4,>=2 in /usr/local/lib/python3.10/dist-packages (from requests>=2.26.0->tiktoken->-r requirements.txt (line 4)) (3.3.2)\n",
            "Requirement already satisfied: urllib3<3,>=1.21.1 in /usr/local/lib/python3.10/dist-packages (from requests>=2.26.0->tiktoken->-r requirements.txt (line 4)) (2.0.7)\n",
            "Requirement already satisfied: fsspec>=2023.5.0 in /usr/local/lib/python3.10/dist-packages (from huggingface-hub->accelerate->-r requirements.txt (line 8)) (2023.6.0)\n",
            "Requirement already satisfied: MarkupSafe>=2.0 in /usr/local/lib/python3.10/dist-packages (from jinja2->torch==2.0.0->-r requirements.txt (line 1)) (2.1.5)\n",
            "Requirement already satisfied: mpmath<1.4,>=1.1.0 in /usr/local/lib/python3.10/dist-packages (from sympy->torch==2.0.0->-r requirements.txt (line 1)) (1.3.0)\n",
            "Downloading torch-2.0.0-cp310-cp310-manylinux1_x86_64.whl (619.9 MB)\n",
            "\u001b[2K   \u001b[90m━━━━━━━━━━━━━━━━━━━━━━━━━━━━━━━━━━━━━━━━\u001b[0m \u001b[32m619.9/619.9 MB\u001b[0m \u001b[31m3.1 MB/s\u001b[0m eta \u001b[36m0:00:00\u001b[0m\n",
            "\u001b[?25hDownloading numpy-1.26.2-cp310-cp310-manylinux_2_17_x86_64.manylinux2014_x86_64.whl (18.2 MB)\n",
            "\u001b[2K   \u001b[90m━━━━━━━━━━━━━━━━━━━━━━━━━━━━━━━━━━━━━━━━\u001b[0m \u001b[32m18.2/18.2 MB\u001b[0m \u001b[31m75.9 MB/s\u001b[0m eta \u001b[36m0:00:00\u001b[0m\n",
            "\u001b[?25hDownloading nvidia_cublas_cu11-11.10.3.66-py3-none-manylinux1_x86_64.whl (317.1 MB)\n",
            "\u001b[2K   \u001b[90m━━━━━━━━━━━━━━━━━━━━━━━━━━━━━━━━━━━━━━━━\u001b[0m \u001b[32m317.1/317.1 MB\u001b[0m \u001b[31m4.9 MB/s\u001b[0m eta \u001b[36m0:00:00\u001b[0m\n",
            "\u001b[?25hDownloading nvidia_cuda_cupti_cu11-11.7.101-py3-none-manylinux1_x86_64.whl (11.8 MB)\n",
            "\u001b[2K   \u001b[90m━━━━━━━━━━━━━━━━━━━━━━━━━━━━━━━━━━━━━━━━\u001b[0m \u001b[32m11.8/11.8 MB\u001b[0m \u001b[31m74.3 MB/s\u001b[0m eta \u001b[36m0:00:00\u001b[0m\n",
            "\u001b[?25hDownloading nvidia_cuda_nvrtc_cu11-11.7.99-2-py3-none-manylinux1_x86_64.whl (21.0 MB)\n",
            "\u001b[2K   \u001b[90m━━━━━━━━━━━━━━━━━━━━━━━━━━━━━━━━━━━━━━━━\u001b[0m \u001b[32m21.0/21.0 MB\u001b[0m \u001b[31m77.0 MB/s\u001b[0m eta \u001b[36m0:00:00\u001b[0m\n",
            "\u001b[?25hDownloading nvidia_cuda_runtime_cu11-11.7.99-py3-none-manylinux1_x86_64.whl (849 kB)\n",
            "\u001b[2K   \u001b[90m━━━━━━━━━━━━━━━━━━━━━━━━━━━━━━━━━━━━━━━━\u001b[0m \u001b[32m849.3/849.3 kB\u001b[0m \u001b[31m48.2 MB/s\u001b[0m eta \u001b[36m0:00:00\u001b[0m\n",
            "\u001b[?25hDownloading nvidia_cudnn_cu11-8.5.0.96-2-py3-none-manylinux1_x86_64.whl (557.1 MB)\n",
            "\u001b[2K   \u001b[90m━━━━━━━━━━━━━━━━━━━━━━━━━━━━━━━━━━━━━━━━\u001b[0m \u001b[32m557.1/557.1 MB\u001b[0m \u001b[31m1.3 MB/s\u001b[0m eta \u001b[36m0:00:00\u001b[0m\n",
            "\u001b[?25hDownloading nvidia_cufft_cu11-10.9.0.58-py3-none-manylinux1_x86_64.whl (168.4 MB)\n",
            "\u001b[2K   \u001b[90m━━━━━━━━━━━━━━━━━━━━━━━━━━━━━━━━━━━━━━━━\u001b[0m \u001b[32m168.4/168.4 MB\u001b[0m \u001b[31m6.5 MB/s\u001b[0m eta \u001b[36m0:00:00\u001b[0m\n",
            "\u001b[?25hDownloading nvidia_curand_cu11-10.2.10.91-py3-none-manylinux1_x86_64.whl (54.6 MB)\n",
            "\u001b[2K   \u001b[90m━━━━━━━━━━━━━━━━━━━━━━━━━━━━━━━━━━━━━━━━\u001b[0m \u001b[32m54.6/54.6 MB\u001b[0m \u001b[31m12.7 MB/s\u001b[0m eta \u001b[36m0:00:00\u001b[0m\n",
            "\u001b[?25hDownloading nvidia_cusolver_cu11-11.4.0.1-2-py3-none-manylinux1_x86_64.whl (102.6 MB)\n",
            "\u001b[2K   \u001b[90m━━━━━━━━━━━━━━━━━━━━━━━━━━━━━━━━━━━━━━━━\u001b[0m \u001b[32m102.6/102.6 MB\u001b[0m \u001b[31m7.9 MB/s\u001b[0m eta \u001b[36m0:00:00\u001b[0m\n",
            "\u001b[?25hDownloading nvidia_cusparse_cu11-11.7.4.91-py3-none-manylinux1_x86_64.whl (173.2 MB)\n",
            "\u001b[2K   \u001b[90m━━━━━━━━━━━━━━━━━━━━━━━━━━━━━━━━━━━━━━━━\u001b[0m \u001b[32m173.2/173.2 MB\u001b[0m \u001b[31m7.3 MB/s\u001b[0m eta \u001b[36m0:00:00\u001b[0m\n",
            "\u001b[?25hDownloading nvidia_nccl_cu11-2.14.3-py3-none-manylinux1_x86_64.whl (177.1 MB)\n",
            "\u001b[2K   \u001b[90m━━━━━━━━━━━━━━━━━━━━━━━━━━━━━━━━━━━━━━━━\u001b[0m \u001b[32m177.1/177.1 MB\u001b[0m \u001b[31m7.3 MB/s\u001b[0m eta \u001b[36m0:00:00\u001b[0m\n",
            "\u001b[?25hDownloading nvidia_nvtx_cu11-11.7.91-py3-none-manylinux1_x86_64.whl (98 kB)\n",
            "\u001b[2K   \u001b[90m━━━━━━━━━━━━━━━━━━━━━━━━━━━━━━━━━━━━━━━━\u001b[0m \u001b[32m98.6/98.6 kB\u001b[0m \u001b[31m7.8 MB/s\u001b[0m eta \u001b[36m0:00:00\u001b[0m\n",
            "\u001b[?25hDownloading triton-2.0.0-1-cp310-cp310-manylinux2014_x86_64.manylinux_2_17_x86_64.whl (63.3 MB)\n",
            "\u001b[2K   \u001b[90m━━━━━━━━━━━━━━━━━━━━━━━━━━━━━━━━━━━━━━━━\u001b[0m \u001b[32m63.3/63.3 MB\u001b[0m \u001b[31m11.6 MB/s\u001b[0m eta \u001b[36m0:00:00\u001b[0m\n",
            "\u001b[?25hDownloading tiktoken-0.7.0-cp310-cp310-manylinux_2_17_x86_64.manylinux2014_x86_64.whl (1.1 MB)\n",
            "\u001b[2K   \u001b[90m━━━━━━━━━━━━━━━━━━━━━━━━━━━━━━━━━━━━━━━━\u001b[0m \u001b[32m1.1/1.1 MB\u001b[0m \u001b[31m53.6 MB/s\u001b[0m eta \u001b[36m0:00:00\u001b[0m\n",
            "\u001b[?25hDownloading openai-1.37.0-py3-none-any.whl (337 kB)\n",
            "\u001b[2K   \u001b[90m━━━━━━━━━━━━━━━━━━━━━━━━━━━━━━━━━━━━━━━━\u001b[0m \u001b[32m337.0/337.0 kB\u001b[0m \u001b[31m24.4 MB/s\u001b[0m eta \u001b[36m0:00:00\u001b[0m\n",
            "\u001b[?25hDownloading httpx-0.27.0-py3-none-any.whl (75 kB)\n",
            "\u001b[2K   \u001b[90m━━━━━━━━━━━━━━━━━━━━━━━━━━━━━━━━━━━━━━━━\u001b[0m \u001b[32m75.6/75.6 kB\u001b[0m \u001b[31m6.6 MB/s\u001b[0m eta \u001b[36m0:00:00\u001b[0m\n",
            "\u001b[?25hDownloading httpcore-1.0.5-py3-none-any.whl (77 kB)\n",
            "\u001b[2K   \u001b[90m━━━━━━━━━━━━━━━━━━━━━━━━━━━━━━━━━━━━━━━━\u001b[0m \u001b[32m77.9/77.9 kB\u001b[0m \u001b[31m6.8 MB/s\u001b[0m eta \u001b[36m0:00:00\u001b[0m\n",
            "\u001b[?25hDownloading lit-18.1.8-py3-none-any.whl (96 kB)\n",
            "\u001b[2K   \u001b[90m━━━━━━━━━━━━━━━━━━━━━━━━━━━━━━━━━━━━━━━━\u001b[0m \u001b[32m96.4/96.4 kB\u001b[0m \u001b[31m5.1 MB/s\u001b[0m eta \u001b[36m0:00:00\u001b[0m\n",
            "\u001b[?25hDownloading h11-0.14.0-py3-none-any.whl (58 kB)\n",
            "\u001b[2K   \u001b[90m━━━━━━━━━━━━━━━━━━━━━━━━━━━━━━━━━━━━━━━━\u001b[0m \u001b[32m58.3/58.3 kB\u001b[0m \u001b[31m4.4 MB/s\u001b[0m eta \u001b[36m0:00:00\u001b[0m\n",
            "\u001b[?25hInstalling collected packages: lit, nvidia-nvtx-cu11, nvidia-nccl-cu11, nvidia-cusparse-cu11, nvidia-curand-cu11, nvidia-cufft-cu11, nvidia-cuda-runtime-cu11, nvidia-cuda-nvrtc-cu11, nvidia-cuda-cupti-cu11, nvidia-cublas-cu11, numpy, h11, tiktoken, nvidia-cusolver-cu11, nvidia-cudnn-cu11, httpcore, httpx, openai, triton, torch\n",
            "  Attempting uninstall: numpy\n",
            "    Found existing installation: numpy 1.25.2\n",
            "    Uninstalling numpy-1.25.2:\n",
            "      Successfully uninstalled numpy-1.25.2\n",
            "  Attempting uninstall: triton\n",
            "    Found existing installation: triton 2.3.1\n",
            "    Uninstalling triton-2.3.1:\n",
            "      Successfully uninstalled triton-2.3.1\n",
            "  Attempting uninstall: torch\n",
            "    Found existing installation: torch 2.3.1+cu121\n",
            "    Uninstalling torch-2.3.1+cu121:\n",
            "      Successfully uninstalled torch-2.3.1+cu121\n",
            "\u001b[31mERROR: pip's dependency resolver does not currently take into account all the packages that are installed. This behaviour is the source of the following dependency conflicts.\n",
            "torchaudio 2.3.1+cu121 requires torch==2.3.1, but you have torch 2.0.0 which is incompatible.\n",
            "torchtext 0.18.0 requires torch>=2.3.0, but you have torch 2.0.0 which is incompatible.\n",
            "torchvision 0.18.1+cu121 requires torch==2.3.1, but you have torch 2.0.0 which is incompatible.\u001b[0m\u001b[31m\n",
            "\u001b[0mSuccessfully installed h11-0.14.0 httpcore-1.0.5 httpx-0.27.0 lit-18.1.8 numpy-1.26.2 nvidia-cublas-cu11-11.10.3.66 nvidia-cuda-cupti-cu11-11.7.101 nvidia-cuda-nvrtc-cu11-11.7.99 nvidia-cuda-runtime-cu11-11.7.99 nvidia-cudnn-cu11-8.5.0.96 nvidia-cufft-cu11-10.9.0.58 nvidia-curand-cu11-10.2.10.91 nvidia-cusolver-cu11-11.4.0.1 nvidia-cusparse-cu11-11.7.4.91 nvidia-nccl-cu11-2.14.3 nvidia-nvtx-cu11-11.7.91 openai-1.37.0 tiktoken-0.7.0 torch-2.0.0 triton-2.0.0\n",
            "Obtaining file:///content/Lookback-Lens/transformers-4.32.0\n",
            "  Installing build dependencies ... \u001b[?25l\u001b[?25hdone\n",
            "  Checking if build backend supports build_editable ... \u001b[?25l\u001b[?25hdone\n",
            "  Getting requirements to build editable ... \u001b[?25l\u001b[?25hdone\n",
            "  Preparing editable metadata (pyproject.toml) ... \u001b[?25l\u001b[?25hdone\n",
            "Requirement already satisfied: filelock in /usr/local/lib/python3.10/dist-packages (from transformers==4.32.0) (3.15.4)\n",
            "Requirement already satisfied: huggingface-hub<1.0,>=0.15.1 in /usr/local/lib/python3.10/dist-packages (from transformers==4.32.0) (0.23.5)\n",
            "Requirement already satisfied: numpy>=1.17 in /usr/local/lib/python3.10/dist-packages (from transformers==4.32.0) (1.26.2)\n",
            "Requirement already satisfied: packaging>=20.0 in /usr/local/lib/python3.10/dist-packages (from transformers==4.32.0) (24.1)\n",
            "Requirement already satisfied: pyyaml>=5.1 in /usr/local/lib/python3.10/dist-packages (from transformers==4.32.0) (6.0.1)\n",
            "Requirement already satisfied: regex!=2019.12.17 in /usr/local/lib/python3.10/dist-packages (from transformers==4.32.0) (2024.5.15)\n",
            "Requirement already satisfied: requests in /usr/local/lib/python3.10/dist-packages (from transformers==4.32.0) (2.31.0)\n",
            "Collecting tokenizers!=0.11.3,<0.14,>=0.11.1 (from transformers==4.32.0)\n",
            "  Downloading tokenizers-0.13.3-cp310-cp310-manylinux_2_17_x86_64.manylinux2014_x86_64.whl.metadata (6.7 kB)\n",
            "Requirement already satisfied: safetensors>=0.3.1 in /usr/local/lib/python3.10/dist-packages (from transformers==4.32.0) (0.4.3)\n",
            "Requirement already satisfied: tqdm>=4.27 in /usr/local/lib/python3.10/dist-packages (from transformers==4.32.0) (4.66.4)\n",
            "Requirement already satisfied: fsspec>=2023.5.0 in /usr/local/lib/python3.10/dist-packages (from huggingface-hub<1.0,>=0.15.1->transformers==4.32.0) (2023.6.0)\n",
            "Requirement already satisfied: typing-extensions>=3.7.4.3 in /usr/local/lib/python3.10/dist-packages (from huggingface-hub<1.0,>=0.15.1->transformers==4.32.0) (4.12.2)\n",
            "Requirement already satisfied: charset-normalizer<4,>=2 in /usr/local/lib/python3.10/dist-packages (from requests->transformers==4.32.0) (3.3.2)\n",
            "Requirement already satisfied: idna<4,>=2.5 in /usr/local/lib/python3.10/dist-packages (from requests->transformers==4.32.0) (3.7)\n",
            "Requirement already satisfied: urllib3<3,>=1.21.1 in /usr/local/lib/python3.10/dist-packages (from requests->transformers==4.32.0) (2.0.7)\n",
            "Requirement already satisfied: certifi>=2017.4.17 in /usr/local/lib/python3.10/dist-packages (from requests->transformers==4.32.0) (2024.7.4)\n",
            "Downloading tokenizers-0.13.3-cp310-cp310-manylinux_2_17_x86_64.manylinux2014_x86_64.whl (7.8 MB)\n",
            "\u001b[2K   \u001b[90m━━━━━━━━━━━━━━━━━━━━━━━━━━━━━━━━━━━━━━━━\u001b[0m \u001b[32m7.8/7.8 MB\u001b[0m \u001b[31m62.0 MB/s\u001b[0m eta \u001b[36m0:00:00\u001b[0m\n",
            "\u001b[?25hBuilding wheels for collected packages: transformers\n",
            "  Building editable for transformers (pyproject.toml) ... \u001b[?25l\u001b[?25hdone\n",
            "  Created wheel for transformers: filename=transformers-4.32.0-0.editable-py3-none-any.whl size=38528 sha256=9717528510a3f5919483e8e7626c739c40611eea3f84d94d0f2ad6f3adde272a\n",
            "  Stored in directory: /tmp/pip-ephem-wheel-cache-cwg36uuc/wheels/a7/81/b7/00db304f094a8579806b5684096e1f08585d6515ef578ddf62\n",
            "Successfully built transformers\n",
            "Installing collected packages: tokenizers, transformers\n",
            "  Attempting uninstall: tokenizers\n",
            "    Found existing installation: tokenizers 0.19.1\n",
            "    Uninstalling tokenizers-0.19.1:\n",
            "      Successfully uninstalled tokenizers-0.19.1\n",
            "  Attempting uninstall: transformers\n",
            "    Found existing installation: transformers 4.42.4\n",
            "    Uninstalling transformers-4.42.4:\n",
            "      Successfully uninstalled transformers-4.42.4\n",
            "Successfully installed tokenizers-0.13.3 transformers-4.32.0\n"
          ]
        }
      ]
    },
    {
      "cell_type": "code",
      "source": [
        "!cd Lookback-Lens && gzip -d data/nq-open-10_total_documents_gold_at_4.jsonl.gz"
      ],
      "metadata": {
        "id": "uOTwfoGaR0gm"
      },
      "execution_count": 5,
      "outputs": []
    },
    {
      "cell_type": "markdown",
      "source": [
        "## Skip Step 01 & 02 by downloading the precomputed lookback ratios & annotations."
      ],
      "metadata": {
        "id": "FMUTY2c7ny6h"
      }
    },
    {
      "cell_type": "code",
      "source": [
        "!cd Lookback-Lens && wget \"https://www.dropbox.com/scl/fi/a87iv6xw9xma6ppc5pw2h/step1and2.tar.bz?rlkey=j382rsrwu2wnfwj7sn14ai3qw&dl=0\" -O step1and2.tar.bz\n",
        "!cd Lookback-Lens && tar -xvf step1and2.tar.bz\n",
        "!cd Lookback-Lens && mv dump/* . && rm -rf dump"
      ],
      "metadata": {
        "colab": {
          "base_uri": "https://localhost:8080/"
        },
        "id": "MDhLikkoS34S",
        "outputId": "1d4ee8f8-a103-41a6-9edf-9295f23475e2"
      },
      "execution_count": 7,
      "outputs": [
        {
          "output_type": "stream",
          "name": "stdout",
          "text": [
            "--2024-07-25 05:10:46--  https://www.dropbox.com/scl/fi/a87iv6xw9xma6ppc5pw2h/step1and2.tar.bz?rlkey=j382rsrwu2wnfwj7sn14ai3qw&dl=0\n",
            "Resolving www.dropbox.com (www.dropbox.com)... 162.125.2.18, 2620:100:6017:18::a27d:212\n",
            "Connecting to www.dropbox.com (www.dropbox.com)|162.125.2.18|:443... connected.\n",
            "HTTP request sent, awaiting response... 302 Found\n",
            "Location: https://uc529bea9f92dd78483d24ccf483.dl.dropboxusercontent.com/cd/0/inline/CXVHNAdY4q2riyVmNovhSFkuH8fwaZcOvCDsd-G-Zykazi7ruDOBsVQhXL2lBzyEw1ubi859ZestX43eCc5FuvGSimZh5KBmxJ1N9zdfmdg6TT7u3jKpVnRgNlorVZkUZNHXIeNv1fVBInz6Ng-zmT62/file# [following]\n",
            "--2024-07-25 05:10:46--  https://uc529bea9f92dd78483d24ccf483.dl.dropboxusercontent.com/cd/0/inline/CXVHNAdY4q2riyVmNovhSFkuH8fwaZcOvCDsd-G-Zykazi7ruDOBsVQhXL2lBzyEw1ubi859ZestX43eCc5FuvGSimZh5KBmxJ1N9zdfmdg6TT7u3jKpVnRgNlorVZkUZNHXIeNv1fVBInz6Ng-zmT62/file\n",
            "Resolving uc529bea9f92dd78483d24ccf483.dl.dropboxusercontent.com (uc529bea9f92dd78483d24ccf483.dl.dropboxusercontent.com)... 162.125.65.15, 2620:100:6022:15::a27d:420f\n",
            "Connecting to uc529bea9f92dd78483d24ccf483.dl.dropboxusercontent.com (uc529bea9f92dd78483d24ccf483.dl.dropboxusercontent.com)|162.125.65.15|:443... connected.\n",
            "HTTP request sent, awaiting response... 302 Found\n",
            "Location: /cd/0/inline2/CXWorib7JswwwCpLvbDUQkK5i_T3nx_1dt_U0ztxox9jpjW_IqX0BzJVzYD6fD_FX33Ud4YoTzXo_bt473XQ8MVVQoqFZnOIpMwu4j2AbFfvlZ9yqt8nmvN4CvJ5OwBntxeoJWpp_1Cbaec_sZa6lmH-EQ7L9OCvamJJnZL7qHLcszL9Rt1w76-oQyFnLqrWSmFMmCiVn9zQ-WTnLOtxU08AlSFbsZhOnvCtYi0rQXnpJxu_C5O-vnTvX4_AdtUU9EyXirOR2goRPuNvJ3HvGgoKdPKd1LNQ5ppGQJ_0HrfooVK98fVuSaPGB2abA2WSe9GULiVZqMeIjesLS9oZVIHXZyYyfhWmKLZafPMU1Whn3lvjYtzmGYvShLH9uw1pg34/file [following]\n",
            "--2024-07-25 05:10:48--  https://uc529bea9f92dd78483d24ccf483.dl.dropboxusercontent.com/cd/0/inline2/CXWorib7JswwwCpLvbDUQkK5i_T3nx_1dt_U0ztxox9jpjW_IqX0BzJVzYD6fD_FX33Ud4YoTzXo_bt473XQ8MVVQoqFZnOIpMwu4j2AbFfvlZ9yqt8nmvN4CvJ5OwBntxeoJWpp_1Cbaec_sZa6lmH-EQ7L9OCvamJJnZL7qHLcszL9Rt1w76-oQyFnLqrWSmFMmCiVn9zQ-WTnLOtxU08AlSFbsZhOnvCtYi0rQXnpJxu_C5O-vnTvX4_AdtUU9EyXirOR2goRPuNvJ3HvGgoKdPKd1LNQ5ppGQJ_0HrfooVK98fVuSaPGB2abA2WSe9GULiVZqMeIjesLS9oZVIHXZyYyfhWmKLZafPMU1Whn3lvjYtzmGYvShLH9uw1pg34/file\n",
            "Reusing existing connection to uc529bea9f92dd78483d24ccf483.dl.dropboxusercontent.com:443.\n",
            "HTTP request sent, awaiting response... 200 OK\n",
            "Length: 1145476342 (1.1G) [application/octet-stream]\n",
            "Saving to: ‘step1and2.tar.bz’\n",
            "\n",
            "step1and2.tar.bz    100%[===================>]   1.07G  19.3MB/s    in 58s     \n",
            "\n",
            "2024-07-25 05:11:47 (18.8 MB/s) - ‘step1and2.tar.bz’ saved [1145476342/1145476342]\n",
            "\n",
            "dump/\n",
            "dump/anno-cnndm-7b.jsonl\n",
            "dump/lookback-ratio-cnndm-7b.pt\n",
            "dump/anno-nq-7b.jsonl\n",
            "dump/lookback-ratio-nq-7b.pt\n"
          ]
        }
      ]
    },
    {
      "cell_type": "markdown",
      "source": [
        "## Step 03: Fitting Lookback Lens Classifiers (NQ and CNN/DM)\n",
        "\n",
        "\n",
        "> **Please replace `<hf_auth_token>` with your huggingface auth token for LLaMA2 access.**\n",
        "\n"
      ],
      "metadata": {
        "id": "I0j1y6PdmH6v"
      }
    },
    {
      "cell_type": "markdown",
      "source": [
        "### Predefined Span"
      ],
      "metadata": {
        "id": "GzTT5bkYmUS2"
      }
    },
    {
      "cell_type": "code",
      "source": [
        "!cd Lookback-Lens && python step03_lookback_lens.py --auth_token <hf_auth_token> --anno_1 anno-nq-7b.jsonl --anno_2 anno-cnndm-7b.jsonl --lookback_ratio_1 lookback-ratio-nq-7b.pt --lookback_ratio_2 lookback-ratio-cnndm-7b.pt"
      ],
      "metadata": {
        "colab": {
          "base_uri": "https://localhost:8080/"
        },
        "id": "5fGjFtbqT2SG",
        "outputId": "86c2b145-2882-48d4-8d5a-c270252bc1c5"
      },
      "execution_count": 12,
      "outputs": [
        {
          "output_type": "stream",
          "name": "stdout",
          "text": [
            "======== Loading data from anno-nq-7b.jsonl and lookback-ratio-nq-7b.pt...\n",
            "/usr/local/lib/python3.10/dist-packages/huggingface_hub/file_download.py:1132: FutureWarning: `resume_download` is deprecated and will be removed in version 1.0.0. Downloads always resume when possible. If you want to force a new download, use `force_download=True`.\n",
            "  warnings.warn(\n",
            "tokenizer_config.json: 100% 1.62k/1.62k [00:00<00:00, 6.45MB/s]\n",
            "tokenizer.model: 100% 500k/500k [00:00<00:00, 15.0MB/s]\n",
            "tokenizer.json: 100% 1.84M/1.84M [00:00<00:00, 13.5MB/s]\n",
            "special_tokens_map.json: 100% 414/414 [00:00<00:00, 2.61MB/s]\n",
            "2024-07-25 05:22:33.816180: E external/local_xla/xla/stream_executor/cuda/cuda_dnn.cc:9261] Unable to register cuDNN factory: Attempting to register factory for plugin cuDNN when one has already been registered\n",
            "2024-07-25 05:22:33.816260: E external/local_xla/xla/stream_executor/cuda/cuda_fft.cc:607] Unable to register cuFFT factory: Attempting to register factory for plugin cuFFT when one has already been registered\n",
            "2024-07-25 05:22:33.992664: E external/local_xla/xla/stream_executor/cuda/cuda_blas.cc:1515] Unable to register cuBLAS factory: Attempting to register factory for plugin cuBLAS when one has already been registered\n",
            "2024-07-25 05:22:37.056098: W tensorflow/compiler/tf2tensorrt/utils/py_utils.cc:38] TF-TRT Warning: Could not find TensorRT\n",
            "100% 3850/3850 [00:00<00:00, 4629.25it/s]\n",
            "A trivial baseline: if higher lookback ratio means less hallucination.\n",
            "Baseline AUROC: 0.390518349\n",
            "Train AUROC of the classifier: 0.987866242\n",
            "Test AUROC of the classifier: 0.917192851\n",
            "Top-10 important features:\n",
            "lookback-mean-L15-H26: 2.349065565\n",
            "lookback-mean-L20-H22: -1.924681512\n",
            "lookback-mean-L16-H16: 1.718940214\n",
            "lookback-mean-L12-H12: 1.592770830\n",
            "lookback-mean-L21-H14: -1.472929684\n",
            "lookback-mean-L25-H9: -1.332571508\n",
            "lookback-mean-L17-H3: 1.319757702\n",
            "lookback-mean-L6-H1: 1.281272877\n",
            "lookback-mean-L26-H13: 1.280324992\n",
            "lookback-mean-L20-H24: -1.266832089\n",
            "Train AUROC of the classifier: 0.986215790\n",
            "Test AUROC of the classifier: 0.911405342\n",
            "Top-10 important features:\n",
            "lookback-mean-L15-H26: 2.148320476\n",
            "lookback-mean-L17-H16: -1.921589071\n",
            "lookback-mean-L19-H0: -1.680678605\n",
            "lookback-mean-L16-H10: 1.568216364\n",
            "lookback-mean-L23-H6: 1.537866979\n",
            "lookback-mean-L24-H7: -1.507771762\n",
            "lookback-mean-L16-H16: 1.504301861\n",
            "lookback-mean-L20-H10: 1.426722490\n",
            "lookback-mean-L23-H25: 1.404332910\n",
            "lookback-mean-L21-H14: -1.374990159\n",
            "======== Transfer to data from anno-cnndm-7b.jsonl and lookback-ratio-cnndm-7b.pt...\n",
            "/usr/local/lib/python3.10/dist-packages/huggingface_hub/file_download.py:1132: FutureWarning: `resume_download` is deprecated and will be removed in version 1.0.0. Downloads always resume when possible. If you want to force a new download, use `force_download=True`.\n",
            "  warnings.warn(\n",
            "100% 1899/1899 [00:01<00:00, 1454.75it/s]\n",
            "A trivial baseline: if higher lookback ratio means less hallucination.\n",
            "Transfer Baseline AUROC: 0.430365904\n",
            "Transfer AUROC of the classifier: 0.859401037\n",
            "======== Loading data from anno-cnndm-7b.jsonl and lookback-ratio-cnndm-7b.pt...\n",
            "/usr/local/lib/python3.10/dist-packages/huggingface_hub/file_download.py:1132: FutureWarning: `resume_download` is deprecated and will be removed in version 1.0.0. Downloads always resume when possible. If you want to force a new download, use `force_download=True`.\n",
            "  warnings.warn(\n",
            "100% 1899/1899 [00:00<00:00, 3101.11it/s]\n",
            "A trivial baseline: if higher lookback ratio means less hallucination.\n",
            "Baseline AUROC: 0.430365904\n",
            "Train AUROC of the classifier: 0.988793258\n",
            "Test AUROC of the classifier: 0.863830074\n",
            "Top-10 important features:\n",
            "lookback-mean-L15-H26: 1.647312615\n",
            "lookback-mean-L15-H3: -1.339422146\n",
            "lookback-mean-L13-H14: -1.267377285\n",
            "lookback-mean-L25-H24: -1.182024774\n",
            "lookback-mean-L12-H14: 1.163443813\n",
            "lookback-mean-L30-H31: -1.089951979\n",
            "lookback-mean-L27-H4: -1.080113880\n",
            "lookback-mean-L30-H17: 1.057927826\n",
            "lookback-mean-L26-H18: -1.035023494\n",
            "lookback-mean-L16-H12: -1.028201645\n",
            "Train AUROC of the classifier: 0.980634584\n",
            "Test AUROC of the classifier: 0.880383719\n",
            "Top-10 important features:\n",
            "lookback-mean-L15-H26: 1.730957235\n",
            "lookback-mean-L15-H3: -1.290381254\n",
            "lookback-mean-L24-H7: -1.272963518\n",
            "lookback-mean-L15-H22: 1.269156221\n",
            "lookback-mean-L9-H9: -1.255686919\n",
            "lookback-mean-L16-H8: -1.181109925\n",
            "lookback-mean-L19-H0: -1.148281508\n",
            "lookback-mean-L15-H25: -1.137941620\n",
            "lookback-mean-L13-H14: -1.061694455\n",
            "lookback-mean-L10-H19: 1.060281954\n",
            "======== Transfer to data from anno-nq-7b.jsonl and lookback-ratio-nq-7b.pt...\n",
            "/usr/local/lib/python3.10/dist-packages/huggingface_hub/file_download.py:1132: FutureWarning: `resume_download` is deprecated and will be removed in version 1.0.0. Downloads always resume when possible. If you want to force a new download, use `force_download=True`.\n",
            "  warnings.warn(\n",
            "100% 3850/3850 [00:00<00:00, 5898.56it/s]\n",
            "A trivial baseline: if higher lookback ratio means less hallucination.\n",
            "Transfer Baseline AUROC: 0.390518349\n",
            "Transfer AUROC of the classifier: 0.820055498\n",
            "======== Results:\n",
            "                  , Train AUROC (on A), Test AUROC (on A), Transfer AUROC (on B)\n",
            "A=nq-7b;B=cnndm-7b, 0.9870410163238388, 0.9142990964538769, 0.8594010368450287\n",
            "A=cnndm-7b;B=nq-7b, 0.9847139208857258, 0.8721068963960313, 0.8200554975927998\n"
          ]
        }
      ]
    },
    {
      "cell_type": "markdown",
      "source": [
        "### Sliding Window (=8)"
      ],
      "metadata": {
        "id": "AV2ajEfQmX6z"
      }
    },
    {
      "cell_type": "code",
      "source": [
        "!cd Lookback-Lens && python step03_lookback_lens.py --auth_token <hf_auth_token> --anno_1 anno-nq-7b.jsonl --anno_2 anno-cnndm-7b.jsonl --lookback_ratio_1 lookback-ratio-nq-7b.pt --lookback_ratio_2 lookback-ratio-cnndm-7b.pt --sliding_window 8"
      ],
      "metadata": {
        "colab": {
          "base_uri": "https://localhost:8080/"
        },
        "id": "q5NjmIOxYAfr",
        "outputId": "34e88ae9-a184-43b8-f20b-75d5a8b35aa4"
      },
      "execution_count": 13,
      "outputs": [
        {
          "output_type": "stream",
          "name": "stdout",
          "text": [
            "======== Loading data from anno-nq-7b.jsonl and lookback-ratio-nq-7b.pt...\n",
            "/usr/local/lib/python3.10/dist-packages/huggingface_hub/file_download.py:1132: FutureWarning: `resume_download` is deprecated and will be removed in version 1.0.0. Downloads always resume when possible. If you want to force a new download, use `force_download=True`.\n",
            "  warnings.warn(\n",
            "2024-07-25 05:32:34.530184: E external/local_xla/xla/stream_executor/cuda/cuda_dnn.cc:9261] Unable to register cuDNN factory: Attempting to register factory for plugin cuDNN when one has already been registered\n",
            "2024-07-25 05:32:34.530253: E external/local_xla/xla/stream_executor/cuda/cuda_fft.cc:607] Unable to register cuFFT factory: Attempting to register factory for plugin cuFFT when one has already been registered\n",
            "2024-07-25 05:32:34.539030: E external/local_xla/xla/stream_executor/cuda/cuda_blas.cc:1515] Unable to register cuBLAS factory: Attempting to register factory for plugin cuBLAS when one has already been registered\n",
            "2024-07-25 05:32:37.047609: W tensorflow/compiler/tf2tensorrt/utils/py_utils.cc:38] TF-TRT Warning: Could not find TensorRT\n",
            "100% 74256/74256 [00:09<00:00, 7759.19it/s]\n",
            "A trivial baseline: if higher lookback ratio means less hallucination.\n",
            "Baseline AUROC: 0.477733716\n",
            "/usr/local/lib/python3.10/dist-packages/sklearn/linear_model/_logistic.py:458: ConvergenceWarning: lbfgs failed to converge (status=1):\n",
            "STOP: TOTAL NO. of ITERATIONS REACHED LIMIT.\n",
            "\n",
            "Increase the number of iterations (max_iter) or scale the data as shown in:\n",
            "    https://scikit-learn.org/stable/modules/preprocessing.html\n",
            "Please also refer to the documentation for alternative solver options:\n",
            "    https://scikit-learn.org/stable/modules/linear_model.html#logistic-regression\n",
            "  n_iter_i = _check_optimize_result(\n",
            "Train AUROC of the classifier: 0.886468884\n",
            "Test AUROC of the classifier: 0.866452279\n",
            "Top-10 important features:\n",
            "lookback-mean-L15-H26: 4.317601070\n",
            "lookback-mean-L13-H17: 3.470519512\n",
            "lookback-mean-L13-H14: -3.016782241\n",
            "lookback-mean-L8-H9: 2.989876453\n",
            "lookback-mean-L5-H5: -2.952740027\n",
            "lookback-mean-L11-H5: 2.911249473\n",
            "lookback-mean-L29-H2: 2.880490245\n",
            "lookback-mean-L10-H31: -2.872520045\n",
            "lookback-mean-L17-H8: -2.796915304\n",
            "lookback-mean-L12-H13: 2.625367277\n",
            "/usr/local/lib/python3.10/dist-packages/sklearn/linear_model/_logistic.py:458: ConvergenceWarning: lbfgs failed to converge (status=1):\n",
            "STOP: TOTAL NO. of ITERATIONS REACHED LIMIT.\n",
            "\n",
            "Increase the number of iterations (max_iter) or scale the data as shown in:\n",
            "    https://scikit-learn.org/stable/modules/preprocessing.html\n",
            "Please also refer to the documentation for alternative solver options:\n",
            "    https://scikit-learn.org/stable/modules/linear_model.html#logistic-regression\n",
            "  n_iter_i = _check_optimize_result(\n",
            "Train AUROC of the classifier: 0.886244509\n",
            "Test AUROC of the classifier: 0.867782338\n",
            "Top-10 important features:\n",
            "lookback-mean-L15-H26: 4.702819632\n",
            "lookback-mean-L13-H17: 3.787352323\n",
            "lookback-mean-L13-H14: -3.214470552\n",
            "lookback-mean-L29-H2: 3.060077961\n",
            "lookback-mean-L0-H31: 2.772930542\n",
            "lookback-mean-L11-H5: 2.772606799\n",
            "lookback-mean-L3-H25: 2.760743352\n",
            "lookback-mean-L27-H7: 2.643874249\n",
            "lookback-mean-L19-H23: 2.587656507\n",
            "lookback-mean-L10-H31: -2.558703573\n",
            "/usr/local/lib/python3.10/dist-packages/sklearn/linear_model/_logistic.py:458: ConvergenceWarning: lbfgs failed to converge (status=1):\n",
            "STOP: TOTAL NO. of ITERATIONS REACHED LIMIT.\n",
            "\n",
            "Increase the number of iterations (max_iter) or scale the data as shown in:\n",
            "    https://scikit-learn.org/stable/modules/preprocessing.html\n",
            "Please also refer to the documentation for alternative solver options:\n",
            "    https://scikit-learn.org/stable/modules/linear_model.html#logistic-regression\n",
            "  n_iter_i = _check_optimize_result(\n",
            "======== Transfer to data from anno-cnndm-7b.jsonl and lookback-ratio-cnndm-7b.pt...\n",
            "/usr/local/lib/python3.10/dist-packages/huggingface_hub/file_download.py:1132: FutureWarning: `resume_download` is deprecated and will be removed in version 1.0.0. Downloads always resume when possible. If you want to force a new download, use `force_download=True`.\n",
            "  warnings.warn(\n",
            "100% 163699/163699 [00:21<00:00, 7645.16it/s]\n",
            "A trivial baseline: if higher lookback ratio means less hallucination.\n",
            "Transfer Baseline AUROC: 0.476981627\n",
            "Transfer AUROC of the classifier: 0.659349109\n",
            "======== Loading data from anno-cnndm-7b.jsonl and lookback-ratio-cnndm-7b.pt...\n",
            "/usr/local/lib/python3.10/dist-packages/huggingface_hub/file_download.py:1132: FutureWarning: `resume_download` is deprecated and will be removed in version 1.0.0. Downloads always resume when possible. If you want to force a new download, use `force_download=True`.\n",
            "  warnings.warn(\n",
            "100% 163699/163699 [00:21<00:00, 7741.73it/s]\n",
            "A trivial baseline: if higher lookback ratio means less hallucination.\n",
            "Baseline AUROC: 0.476981627\n",
            "Train AUROC of the classifier: 0.867306735\n",
            "Test AUROC of the classifier: 0.846644518\n",
            "Top-10 important features:\n",
            "lookback-mean-L0-H21: 3.541785875\n",
            "lookback-mean-L15-H26: 3.398570624\n",
            "lookback-mean-L1-H13: -2.887533574\n",
            "lookback-mean-L18-H28: 2.829246344\n",
            "lookback-mean-L14-H15: -2.674481063\n",
            "lookback-mean-L13-H3: -2.668965558\n",
            "lookback-mean-L20-H22: -2.646361155\n",
            "lookback-mean-L0-H4: -2.606461151\n",
            "lookback-mean-L29-H30: 2.590782523\n",
            "lookback-mean-L2-H6: 2.496456598\n",
            "/usr/local/lib/python3.10/dist-packages/sklearn/linear_model/_logistic.py:458: ConvergenceWarning: lbfgs failed to converge (status=1):\n",
            "STOP: TOTAL NO. of ITERATIONS REACHED LIMIT.\n",
            "\n",
            "Increase the number of iterations (max_iter) or scale the data as shown in:\n",
            "    https://scikit-learn.org/stable/modules/preprocessing.html\n",
            "Please also refer to the documentation for alternative solver options:\n",
            "    https://scikit-learn.org/stable/modules/linear_model.html#logistic-regression\n",
            "  n_iter_i = _check_optimize_result(\n",
            "Train AUROC of the classifier: 0.867521905\n",
            "Test AUROC of the classifier: 0.852507241\n",
            "Top-10 important features:\n",
            "lookback-mean-L0-H21: 3.995594788\n",
            "lookback-mean-L29-H30: 3.810768073\n",
            "lookback-mean-L13-H24: -3.114351558\n",
            "lookback-mean-L15-H26: 2.868231927\n",
            "lookback-mean-L13-H10: 2.820621935\n",
            "lookback-mean-L2-H6: 2.707021477\n",
            "lookback-mean-L18-H28: 2.579795639\n",
            "lookback-mean-L9-H14: 2.546085347\n",
            "lookback-mean-L31-H4: -2.425498146\n",
            "lookback-mean-L30-H31: -2.206952129\n",
            "/usr/local/lib/python3.10/dist-packages/sklearn/linear_model/_logistic.py:458: ConvergenceWarning: lbfgs failed to converge (status=1):\n",
            "STOP: TOTAL NO. of ITERATIONS REACHED LIMIT.\n",
            "\n",
            "Increase the number of iterations (max_iter) or scale the data as shown in:\n",
            "    https://scikit-learn.org/stable/modules/preprocessing.html\n",
            "Please also refer to the documentation for alternative solver options:\n",
            "    https://scikit-learn.org/stable/modules/linear_model.html#logistic-regression\n",
            "  n_iter_i = _check_optimize_result(\n",
            "======== Transfer to data from anno-nq-7b.jsonl and lookback-ratio-nq-7b.pt...\n",
            "/usr/local/lib/python3.10/dist-packages/huggingface_hub/file_download.py:1132: FutureWarning: `resume_download` is deprecated and will be removed in version 1.0.0. Downloads always resume when possible. If you want to force a new download, use `force_download=True`.\n",
            "  warnings.warn(\n",
            "100% 74256/74256 [00:08<00:00, 8523.19it/s]\n",
            "A trivial baseline: if higher lookback ratio means less hallucination.\n",
            "Transfer Baseline AUROC: 0.477733716\n",
            "Transfer AUROC of the classifier: 0.660331012\n",
            "======== Results:\n",
            "                  , Train AUROC (on A), Test AUROC (on A), Transfer AUROC (on B)\n",
            "A=nq-7b;B=cnndm-7b, 0.8863566969147373, 0.8671173083619955, 0.659349108541869\n",
            "A=cnndm-7b;B=nq-7b, 0.8674143200112242, 0.8495758795394692, 0.6603310118841796\n"
          ]
        }
      ]
    },
    {
      "cell_type": "markdown",
      "source": [
        "## Step 04: Run Greedy vs Classifier Guided Decoding (NQ and XSum)\n",
        "\n",
        "> **Please replace `<hf_auth_token>` with your huggingface auth token for LLaMA2 access.**\n",
        "\n",
        "Warning: Colab Pro is required to run decoding, as inference with LLaMA has high-RAM demand. Choose V100 GPU and turn on the High-RAM Shape option before running the code!\n",
        "\n",
        "Warning: Running the code without High-RAM Shape option, the program will fail during loading the LLaMA checkpoints!\n",
        "\n"
      ],
      "metadata": {
        "id": "CBNgTM1ehclw"
      }
    },
    {
      "cell_type": "markdown",
      "source": [
        "### Greedy (NQ)"
      ],
      "metadata": {
        "id": "m_fZiFbTlsvC"
      }
    },
    {
      "cell_type": "code",
      "source": [
        "! cd Lookback-Lens && python step04_run_decoding.py --auth_token <hf_auth_token> --model-name meta-llama/Llama-2-7b-chat-hf --data-path data/nq-open-10_total_documents_gold_at_4.jsonl --output-path output-nq-open-greedy-decoding.jsonl --num-gpus 1"
      ],
      "metadata": {
        "id": "DVX8BDshdoGV"
      },
      "execution_count": null,
      "outputs": []
    },
    {
      "cell_type": "markdown",
      "source": [
        "### Lookback Lens Guided Decoding (NQ)"
      ],
      "metadata": {
        "id": "jHVDsrT6lgjm"
      }
    },
    {
      "cell_type": "code",
      "source": [
        "! cd Lookback-Lens && python step04_run_decoding.py --auth_token <hf_auth_token> --model_name meta-llama/Llama-2-7b-chat-hf --data_path data/nq-open-10_total_documents_gold_at_4.jsonl --output_path output-nq-open-lookback-decoding.jsonl --num_gpus 1 --do_sample --guiding_classifier classifiers/classifier_anno-cnndm-7b_sliding_window_8.pkl --chunk_size 8 --num_candidates 8"
      ],
      "metadata": {
        "id": "sYp-QKuTiul-"
      },
      "execution_count": null,
      "outputs": []
    },
    {
      "cell_type": "markdown",
      "source": [
        "### Greedy (XSum)"
      ],
      "metadata": {
        "id": "wKjajNXrmlw2"
      }
    },
    {
      "cell_type": "code",
      "source": [
        "! cd Lookback-Lens && python step04_run_decoding.py --auth_token <hf_auth_token> --model_name meta-llama/Llama-2-7b-chat-hf --data_path data/xsum-1000.jsonl --output_path output-xsum-greedy-decoding.jsonl --num_gpus 1"
      ],
      "metadata": {
        "id": "C1FCw1_9mp8i"
      },
      "execution_count": null,
      "outputs": []
    },
    {
      "cell_type": "markdown",
      "source": [
        "### Lookback Lens Guided Decoding (XSum)"
      ],
      "metadata": {
        "id": "k3_Rqh5nm4Bt"
      }
    },
    {
      "cell_type": "code",
      "source": [
        "! cd Lookback-Lens && python step04_run_decoding.py --auth_token <hf_auth_token> --model_name meta-llama/Llama-2-7b-chat-hf --data_path data/xsum-1000.jsonl --output_path output-xsum-lookback-decoding.jsonl --num_gpus 1 --do_sample --guiding_classifier classifiers/classifier_anno-cnndm-7b_sliding_window_8.pkl --chunk_size 8 --num_candidates 8"
      ],
      "metadata": {
        "id": "MU-fmtccm7FI"
      },
      "execution_count": null,
      "outputs": []
    },
    {
      "cell_type": "markdown",
      "source": [
        "## Step 05: Run Evaluation"
      ],
      "metadata": {
        "id": "Tqoel4IunFbE"
      }
    },
    {
      "cell_type": "markdown",
      "source": [
        "### Run Exact Match Evaluation (NQ)"
      ],
      "metadata": {
        "id": "A-_I3UhQnP7q"
      }
    },
    {
      "cell_type": "code",
      "source": [
        "python eval_exact_match.py --hyp output-nq-open-greedy-decoding.jsonl --ref data/nq-open-10_total_documents_gold_at_4.jsonl\n",
        "python eval_exact_match.py --hyp output-nq-open-lookback-decoding.jsonl --ref data/nq-open-10_total_documents_gold_at_4.jsonl"
      ],
      "metadata": {
        "id": "Lk_Crst8nLBM"
      },
      "execution_count": null,
      "outputs": []
    },
    {
      "cell_type": "markdown",
      "source": [
        "### Run GPT-4o Evaluation (XSum)\n",
        "\n",
        "> Please set OpenAI API Key by `OPENAI_API_KEY={your_key}`."
      ],
      "metadata": {
        "id": "jPCbYdoSnXJM"
      }
    },
    {
      "cell_type": "code",
      "source": [
        "OPENAI_API_KEY={your_key} python step02_eval_gpt4o.py --hyp output-xsum-greedy-decoding.jsonl --ref data/xsum-1000.jsonl --out record-gpt4o-eval-xsum-greedy-decoding.jsonl\n",
        "OPENAI_API_KEY={your_key} python step02_eval_gpt4o.py --hyp output-xsum-lookback-decoding.jsonl --ref data/xsum-1000.jsonl --out record-gpt4o-eval-xsum-lookback-decoding.jsonl"
      ],
      "metadata": {
        "id": "OHGKxFAlnWUD"
      },
      "execution_count": null,
      "outputs": []
    }
  ]
}